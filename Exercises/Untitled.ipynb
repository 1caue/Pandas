{
 "cells": [
  {
   "cell_type": "markdown",
   "id": "2a604e7d-0e96-4ebc-96a8-4a50a225f635",
   "metadata": {},
   "source": [
    "# Exercises"
   ]
  },
  {
   "cell_type": "markdown",
   "id": "62248264-5283-4ad4-9d17-84353cc38854",
   "metadata": {},
   "source": [
    "### Análise de Dados de Vendas"
   ]
  },
  {
   "cell_type": "code",
   "execution_count": 1,
   "id": "aa9ddf1a-0ec1-4799-8d32-1810ae7a62d7",
   "metadata": {},
   "outputs": [
    {
     "data": {
      "text/html": [
       "<div>\n",
       "<style scoped>\n",
       "    .dataframe tbody tr th:only-of-type {\n",
       "        vertical-align: middle;\n",
       "    }\n",
       "\n",
       "    .dataframe tbody tr th {\n",
       "        vertical-align: top;\n",
       "    }\n",
       "\n",
       "    .dataframe thead th {\n",
       "        text-align: right;\n",
       "    }\n",
       "</style>\n",
       "<table border=\"1\" class=\"dataframe\">\n",
       "  <thead>\n",
       "    <tr style=\"text-align: right;\">\n",
       "      <th></th>\n",
       "      <th>Data</th>\n",
       "      <th>Produto</th>\n",
       "      <th>Quantidade</th>\n",
       "      <th>Receita</th>\n",
       "    </tr>\n",
       "  </thead>\n",
       "  <tbody>\n",
       "    <tr>\n",
       "      <th>0</th>\n",
       "      <td>2023-01-01</td>\n",
       "      <td>Laptop</td>\n",
       "      <td>20</td>\n",
       "      <td>5000</td>\n",
       "    </tr>\n",
       "    <tr>\n",
       "      <th>1</th>\n",
       "      <td>2023-01-02</td>\n",
       "      <td>Telefone</td>\n",
       "      <td>15</td>\n",
       "      <td>3000</td>\n",
       "    </tr>\n",
       "    <tr>\n",
       "      <th>2</th>\n",
       "      <td>2023-01-03</td>\n",
       "      <td>Tablet</td>\n",
       "      <td>30</td>\n",
       "      <td>2000</td>\n",
       "    </tr>\n",
       "  </tbody>\n",
       "</table>\n",
       "</div>"
      ],
      "text/plain": [
       "         Data   Produto  Quantidade  Receita\n",
       "0  2023-01-01    Laptop          20     5000\n",
       "1  2023-01-02  Telefone          15     3000\n",
       "2  2023-01-03    Tablet          30     2000"
      ]
     },
     "execution_count": 1,
     "metadata": {},
     "output_type": "execute_result"
    }
   ],
   "source": [
    "import pandas as pd\n",
    "\n",
    "data1 = {\n",
    "    'Data': ['2023-01-01', '2023-01-02', '2023-01-03'],\n",
    "    'Produto': ['Laptop', 'Telefone', 'Tablet'],\n",
    "    'Quantidade': [20, 15, 30],\n",
    "    'Receita': [5000, 3000, 2000]\n",
    "}\n",
    "\n",
    "df1 = pd.DataFrame(data1)\n",
    "df1"
   ]
  },
  {
   "cell_type": "code",
   "execution_count": 2,
   "id": "ddf1ce92-dc64-4158-a7dd-61084b044645",
   "metadata": {},
   "outputs": [
    {
     "data": {
      "text/html": [
       "<div>\n",
       "<style scoped>\n",
       "    .dataframe tbody tr th:only-of-type {\n",
       "        vertical-align: middle;\n",
       "    }\n",
       "\n",
       "    .dataframe tbody tr th {\n",
       "        vertical-align: top;\n",
       "    }\n",
       "\n",
       "    .dataframe thead th {\n",
       "        text-align: right;\n",
       "    }\n",
       "</style>\n",
       "<table border=\"1\" class=\"dataframe\">\n",
       "  <thead>\n",
       "    <tr style=\"text-align: right;\">\n",
       "      <th></th>\n",
       "      <th>Data</th>\n",
       "      <th>Produto</th>\n",
       "      <th>Quantidade</th>\n",
       "      <th>Receita</th>\n",
       "    </tr>\n",
       "  </thead>\n",
       "  <tbody>\n",
       "    <tr>\n",
       "      <th>2</th>\n",
       "      <td>2023-01-03</td>\n",
       "      <td>Tablet</td>\n",
       "      <td>30</td>\n",
       "      <td>2000</td>\n",
       "    </tr>\n",
       "    <tr>\n",
       "      <th>0</th>\n",
       "      <td>2023-01-01</td>\n",
       "      <td>Laptop</td>\n",
       "      <td>20</td>\n",
       "      <td>5000</td>\n",
       "    </tr>\n",
       "    <tr>\n",
       "      <th>1</th>\n",
       "      <td>2023-01-02</td>\n",
       "      <td>Telefone</td>\n",
       "      <td>15</td>\n",
       "      <td>3000</td>\n",
       "    </tr>\n",
       "  </tbody>\n",
       "</table>\n",
       "</div>"
      ],
      "text/plain": [
       "         Data   Produto  Quantidade  Receita\n",
       "2  2023-01-03    Tablet          30     2000\n",
       "0  2023-01-01    Laptop          20     5000\n",
       "1  2023-01-02  Telefone          15     3000"
      ]
     },
     "execution_count": 2,
     "metadata": {},
     "output_type": "execute_result"
    }
   ],
   "source": [
    "# Qual o produto mais vendido?\n",
    "df1.sort_values(by=['Quantidade'], ascending=False)"
   ]
  },
  {
   "cell_type": "code",
   "execution_count": 3,
   "id": "9ef0ea13-d2a4-4e0d-a0da-30a2050fb0c3",
   "metadata": {},
   "outputs": [
    {
     "data": {
      "text/html": [
       "<div>\n",
       "<style scoped>\n",
       "    .dataframe tbody tr th:only-of-type {\n",
       "        vertical-align: middle;\n",
       "    }\n",
       "\n",
       "    .dataframe tbody tr th {\n",
       "        vertical-align: top;\n",
       "    }\n",
       "\n",
       "    .dataframe thead th {\n",
       "        text-align: right;\n",
       "    }\n",
       "</style>\n",
       "<table border=\"1\" class=\"dataframe\">\n",
       "  <thead>\n",
       "    <tr style=\"text-align: right;\">\n",
       "      <th></th>\n",
       "      <th>Data</th>\n",
       "      <th>Produto</th>\n",
       "      <th>Quantidade</th>\n",
       "      <th>Receita</th>\n",
       "    </tr>\n",
       "  </thead>\n",
       "  <tbody>\n",
       "    <tr>\n",
       "      <th>0</th>\n",
       "      <td>2023-01-01</td>\n",
       "      <td>Laptop</td>\n",
       "      <td>20</td>\n",
       "      <td>5000</td>\n",
       "    </tr>\n",
       "    <tr>\n",
       "      <th>1</th>\n",
       "      <td>2023-01-02</td>\n",
       "      <td>Telefone</td>\n",
       "      <td>15</td>\n",
       "      <td>3000</td>\n",
       "    </tr>\n",
       "    <tr>\n",
       "      <th>2</th>\n",
       "      <td>2023-01-03</td>\n",
       "      <td>Tablet</td>\n",
       "      <td>30</td>\n",
       "      <td>2000</td>\n",
       "    </tr>\n",
       "  </tbody>\n",
       "</table>\n",
       "</div>"
      ],
      "text/plain": [
       "         Data   Produto  Quantidade  Receita\n",
       "0  2023-01-01    Laptop          20     5000\n",
       "1  2023-01-02  Telefone          15     3000\n",
       "2  2023-01-03    Tablet          30     2000"
      ]
     },
     "execution_count": 3,
     "metadata": {},
     "output_type": "execute_result"
    }
   ],
   "source": [
    "# Qual foi o mês com maior volume de vendas?\n",
    "df1.sort_values(by=['Receita'], ascending=False)"
   ]
  },
  {
   "cell_type": "code",
   "execution_count": 4,
   "id": "4c413952-d335-43d9-8db5-fde5548d22ba",
   "metadata": {},
   "outputs": [
    {
     "data": {
      "text/html": [
       "<div>\n",
       "<style scoped>\n",
       "    .dataframe tbody tr th:only-of-type {\n",
       "        vertical-align: middle;\n",
       "    }\n",
       "\n",
       "    .dataframe tbody tr th {\n",
       "        vertical-align: top;\n",
       "    }\n",
       "\n",
       "    .dataframe thead th {\n",
       "        text-align: right;\n",
       "    }\n",
       "</style>\n",
       "<table border=\"1\" class=\"dataframe\">\n",
       "  <thead>\n",
       "    <tr style=\"text-align: right;\">\n",
       "      <th></th>\n",
       "      <th>Receita</th>\n",
       "    </tr>\n",
       "    <tr>\n",
       "      <th>Produto</th>\n",
       "      <th></th>\n",
       "    </tr>\n",
       "  </thead>\n",
       "  <tbody>\n",
       "    <tr>\n",
       "      <th>Laptop</th>\n",
       "      <td>5000.0</td>\n",
       "    </tr>\n",
       "    <tr>\n",
       "      <th>Tablet</th>\n",
       "      <td>2000.0</td>\n",
       "    </tr>\n",
       "    <tr>\n",
       "      <th>Telefone</th>\n",
       "      <td>3000.0</td>\n",
       "    </tr>\n",
       "  </tbody>\n",
       "</table>\n",
       "</div>"
      ],
      "text/plain": [
       "          Receita\n",
       "Produto          \n",
       "Laptop     5000.0\n",
       "Tablet     2000.0\n",
       "Telefone   3000.0"
      ]
     },
     "execution_count": 4,
     "metadata": {},
     "output_type": "execute_result"
    }
   ],
   "source": [
    "# Qual a média de receita por produto?\n",
    "receita = df1.groupby('Produto')['Receita'].mean().to_frame()\n",
    "receita"
   ]
  },
  {
   "cell_type": "markdown",
   "id": "efb5ce5b-ce2a-4ca9-bd3a-0117342e5141",
   "metadata": {},
   "source": [
    "### Limpeza e Transformação de Dados"
   ]
  },
  {
   "cell_type": "code",
   "execution_count": 5,
   "id": "512c9984-9397-41e5-9fdd-a8d6838ab044",
   "metadata": {},
   "outputs": [
    {
     "data": {
      "text/html": [
       "<div>\n",
       "<style scoped>\n",
       "    .dataframe tbody tr th:only-of-type {\n",
       "        vertical-align: middle;\n",
       "    }\n",
       "\n",
       "    .dataframe tbody tr th {\n",
       "        vertical-align: top;\n",
       "    }\n",
       "\n",
       "    .dataframe thead th {\n",
       "        text-align: right;\n",
       "    }\n",
       "</style>\n",
       "<table border=\"1\" class=\"dataframe\">\n",
       "  <thead>\n",
       "    <tr style=\"text-align: right;\">\n",
       "      <th></th>\n",
       "      <th>Nome do Cliente</th>\n",
       "      <th>Idade</th>\n",
       "      <th>Valor da Compra</th>\n",
       "    </tr>\n",
       "  </thead>\n",
       "  <tbody>\n",
       "    <tr>\n",
       "      <th>0</th>\n",
       "      <td>João</td>\n",
       "      <td>25.0</td>\n",
       "      <td>R$50,00</td>\n",
       "    </tr>\n",
       "    <tr>\n",
       "      <th>1</th>\n",
       "      <td>Maria</td>\n",
       "      <td>NaN</td>\n",
       "      <td>R$30,00</td>\n",
       "    </tr>\n",
       "    <tr>\n",
       "      <th>2</th>\n",
       "      <td>Carlos</td>\n",
       "      <td>30.0</td>\n",
       "      <td>R$40,00</td>\n",
       "    </tr>\n",
       "    <tr>\n",
       "      <th>3</th>\n",
       "      <td>Ana</td>\n",
       "      <td>22.0</td>\n",
       "      <td>R$25,00</td>\n",
       "    </tr>\n",
       "  </tbody>\n",
       "</table>\n",
       "</div>"
      ],
      "text/plain": [
       "  Nome do Cliente  Idade Valor da Compra\n",
       "0            João   25.0         R$50,00\n",
       "1           Maria    NaN         R$30,00\n",
       "2          Carlos   30.0         R$40,00\n",
       "3             Ana   22.0         R$25,00"
      ]
     },
     "execution_count": 5,
     "metadata": {},
     "output_type": "execute_result"
    }
   ],
   "source": [
    "data2 = {\n",
    "    'Nome do Cliente': ['João', 'Maria', 'Carlos', 'Ana'],\n",
    "    'Idade': [25, None, 30, 22],\n",
    "    'Valor da Compra': ['R$50,00', 'R$30,00', 'R$40,00', 'R$25,00']\n",
    "}\n",
    "\n",
    "df2 = pd.DataFrame(data2) \n",
    "df2"
   ]
  },
  {
   "cell_type": "code",
   "execution_count": 6,
   "id": "ef6583d3-6438-4387-9cb6-97895c3119b8",
   "metadata": {},
   "outputs": [
    {
     "data": {
      "text/html": [
       "<div>\n",
       "<style scoped>\n",
       "    .dataframe tbody tr th:only-of-type {\n",
       "        vertical-align: middle;\n",
       "    }\n",
       "\n",
       "    .dataframe tbody tr th {\n",
       "        vertical-align: top;\n",
       "    }\n",
       "\n",
       "    .dataframe thead th {\n",
       "        text-align: right;\n",
       "    }\n",
       "</style>\n",
       "<table border=\"1\" class=\"dataframe\">\n",
       "  <thead>\n",
       "    <tr style=\"text-align: right;\">\n",
       "      <th></th>\n",
       "      <th>Nome do Cliente</th>\n",
       "      <th>Idade</th>\n",
       "      <th>Valor da Compra</th>\n",
       "    </tr>\n",
       "  </thead>\n",
       "  <tbody>\n",
       "    <tr>\n",
       "      <th>0</th>\n",
       "      <td>João</td>\n",
       "      <td>25.0</td>\n",
       "      <td>R$50,00</td>\n",
       "    </tr>\n",
       "    <tr>\n",
       "      <th>1</th>\n",
       "      <td>Maria</td>\n",
       "      <td>23.0</td>\n",
       "      <td>R$30,00</td>\n",
       "    </tr>\n",
       "    <tr>\n",
       "      <th>2</th>\n",
       "      <td>Carlos</td>\n",
       "      <td>30.0</td>\n",
       "      <td>R$40,00</td>\n",
       "    </tr>\n",
       "    <tr>\n",
       "      <th>3</th>\n",
       "      <td>Ana</td>\n",
       "      <td>22.0</td>\n",
       "      <td>R$25,00</td>\n",
       "    </tr>\n",
       "  </tbody>\n",
       "</table>\n",
       "</div>"
      ],
      "text/plain": [
       "  Nome do Cliente Idade Valor da Compra\n",
       "0            João  25.0         R$50,00\n",
       "1           Maria  23.0         R$30,00\n",
       "2          Carlos  30.0         R$40,00\n",
       "3             Ana  22.0         R$25,00"
      ]
     },
     "execution_count": 6,
     "metadata": {},
     "output_type": "execute_result"
    }
   ],
   "source": [
    "# Trate os valores ausentes na coluna 'Idade'.\n",
    "df2['Idade'] = df2['Idade'].fillna('23.0')\n",
    "df2"
   ]
  },
  {
   "cell_type": "code",
   "execution_count": 7,
   "id": "61aefd26-525a-42c0-a1d6-b1a0c2d3a902",
   "metadata": {},
   "outputs": [
    {
     "data": {
      "text/html": [
       "<div>\n",
       "<style scoped>\n",
       "    .dataframe tbody tr th:only-of-type {\n",
       "        vertical-align: middle;\n",
       "    }\n",
       "\n",
       "    .dataframe tbody tr th {\n",
       "        vertical-align: top;\n",
       "    }\n",
       "\n",
       "    .dataframe thead th {\n",
       "        text-align: right;\n",
       "    }\n",
       "</style>\n",
       "<table border=\"1\" class=\"dataframe\">\n",
       "  <thead>\n",
       "    <tr style=\"text-align: right;\">\n",
       "      <th></th>\n",
       "      <th>Nome do Cliente</th>\n",
       "      <th>Idade</th>\n",
       "      <th>Valor da Compra</th>\n",
       "    </tr>\n",
       "  </thead>\n",
       "  <tbody>\n",
       "    <tr>\n",
       "      <th>0</th>\n",
       "      <td>João</td>\n",
       "      <td>25.0</td>\n",
       "      <td>50</td>\n",
       "    </tr>\n",
       "    <tr>\n",
       "      <th>1</th>\n",
       "      <td>Maria</td>\n",
       "      <td>23.0</td>\n",
       "      <td>30</td>\n",
       "    </tr>\n",
       "    <tr>\n",
       "      <th>2</th>\n",
       "      <td>Carlos</td>\n",
       "      <td>30.0</td>\n",
       "      <td>40</td>\n",
       "    </tr>\n",
       "    <tr>\n",
       "      <th>3</th>\n",
       "      <td>Ana</td>\n",
       "      <td>22.0</td>\n",
       "      <td>25</td>\n",
       "    </tr>\n",
       "  </tbody>\n",
       "</table>\n",
       "</div>"
      ],
      "text/plain": [
       "  Nome do Cliente Idade Valor da Compra\n",
       "0            João  25.0              50\n",
       "1           Maria  23.0              30\n",
       "2          Carlos  30.0              40\n",
       "3             Ana  22.0              25"
      ]
     },
     "execution_count": 7,
     "metadata": {},
     "output_type": "execute_result"
    }
   ],
   "source": [
    "# Converta a coluna 'Valor da Compra' para um formato numérico\n",
    "df2['Valor da Compra'] =  df2['Valor da Compra'].str.replace('R$50,00', '50')\n",
    "df2['Valor da Compra'] =  df2['Valor da Compra'].str.replace('R$30,00', '30')\n",
    "df2['Valor da Compra'] =  df2['Valor da Compra'].str.replace('R$40,00', '40')\n",
    "df2['Valor da Compra'] =  df2['Valor da Compra'].str.replace('R$25,00', '25')\n",
    "\n",
    "df2"
   ]
  },
  {
   "cell_type": "code",
   "execution_count": 8,
   "id": "4ea978e0-c9ce-4ffe-8f03-6f29c0fb5375",
   "metadata": {},
   "outputs": [
    {
     "data": {
      "text/html": [
       "<div>\n",
       "<style scoped>\n",
       "    .dataframe tbody tr th:only-of-type {\n",
       "        vertical-align: middle;\n",
       "    }\n",
       "\n",
       "    .dataframe tbody tr th {\n",
       "        vertical-align: top;\n",
       "    }\n",
       "\n",
       "    .dataframe thead th {\n",
       "        text-align: right;\n",
       "    }\n",
       "</style>\n",
       "<table border=\"1\" class=\"dataframe\">\n",
       "  <thead>\n",
       "    <tr style=\"text-align: right;\">\n",
       "      <th></th>\n",
       "      <th>Nome</th>\n",
       "      <th>Idade</th>\n",
       "      <th>Valor</th>\n",
       "    </tr>\n",
       "  </thead>\n",
       "  <tbody>\n",
       "    <tr>\n",
       "      <th>0</th>\n",
       "      <td>João</td>\n",
       "      <td>25.0</td>\n",
       "      <td>50</td>\n",
       "    </tr>\n",
       "    <tr>\n",
       "      <th>1</th>\n",
       "      <td>Maria</td>\n",
       "      <td>23.0</td>\n",
       "      <td>30</td>\n",
       "    </tr>\n",
       "    <tr>\n",
       "      <th>2</th>\n",
       "      <td>Carlos</td>\n",
       "      <td>30.0</td>\n",
       "      <td>40</td>\n",
       "    </tr>\n",
       "    <tr>\n",
       "      <th>3</th>\n",
       "      <td>Ana</td>\n",
       "      <td>22.0</td>\n",
       "      <td>25</td>\n",
       "    </tr>\n",
       "  </tbody>\n",
       "</table>\n",
       "</div>"
      ],
      "text/plain": [
       "     Nome Idade Valor\n",
       "0    João  25.0    50\n",
       "1   Maria  23.0    30\n",
       "2  Carlos  30.0    40\n",
       "3     Ana  22.0    25"
      ]
     },
     "execution_count": 8,
     "metadata": {},
     "output_type": "execute_result"
    }
   ],
   "source": [
    "# Renomeie as colunas para 'Nome', 'Idade' e 'Valor'.\n",
    "df2.rename(columns={\n",
    "    'Nome do Cliente': 'Nome',\n",
    "    'Idade': 'Idade', \n",
    "    'Valor da Compra': 'Valor'}, inplace=True)\n",
    "df2"
   ]
  },
  {
   "cell_type": "markdown",
   "id": "e72af5f4-0aed-4df7-8b39-7c0f36172bd8",
   "metadata": {},
   "source": [
    "## Análise Exploratória de Dados (EDA)"
   ]
  },
  {
   "cell_type": "code",
   "execution_count": 9,
   "id": "0abe678a-360c-47a8-a9af-941c8dc2ec6e",
   "metadata": {},
   "outputs": [
    {
     "data": {
      "text/html": [
       "<div>\n",
       "<style scoped>\n",
       "    .dataframe tbody tr th:only-of-type {\n",
       "        vertical-align: middle;\n",
       "    }\n",
       "\n",
       "    .dataframe tbody tr th {\n",
       "        vertical-align: top;\n",
       "    }\n",
       "\n",
       "    .dataframe thead th {\n",
       "        text-align: right;\n",
       "    }\n",
       "</style>\n",
       "<table border=\"1\" class=\"dataframe\">\n",
       "  <thead>\n",
       "    <tr style=\"text-align: right;\">\n",
       "      <th></th>\n",
       "      <th>Nome</th>\n",
       "      <th>Nota_Matematica</th>\n",
       "      <th>Nota_Portugues</th>\n",
       "      <th>Horas_Estudo_Diarias</th>\n",
       "      <th>Idade</th>\n",
       "      <th>Genero</th>\n",
       "    </tr>\n",
       "  </thead>\n",
       "  <tbody>\n",
       "    <tr>\n",
       "      <th>0</th>\n",
       "      <td>Ana</td>\n",
       "      <td>98</td>\n",
       "      <td>88</td>\n",
       "      <td>4.464705</td>\n",
       "      <td>16</td>\n",
       "      <td>F</td>\n",
       "    </tr>\n",
       "    <tr>\n",
       "      <th>1</th>\n",
       "      <td>Bob</td>\n",
       "      <td>88</td>\n",
       "      <td>68</td>\n",
       "      <td>3.404460</td>\n",
       "      <td>16</td>\n",
       "      <td>M</td>\n",
       "    </tr>\n",
       "    <tr>\n",
       "      <th>2</th>\n",
       "      <td>Carlos</td>\n",
       "      <td>74</td>\n",
       "      <td>72</td>\n",
       "      <td>3.832290</td>\n",
       "      <td>16</td>\n",
       "      <td>M</td>\n",
       "    </tr>\n",
       "    <tr>\n",
       "      <th>3</th>\n",
       "      <td>Diana</td>\n",
       "      <td>67</td>\n",
       "      <td>60</td>\n",
       "      <td>1.082338</td>\n",
       "      <td>15</td>\n",
       "      <td>F</td>\n",
       "    </tr>\n",
       "    <tr>\n",
       "      <th>4</th>\n",
       "      <td>Eva</td>\n",
       "      <td>80</td>\n",
       "      <td>60</td>\n",
       "      <td>4.879639</td>\n",
       "      <td>15</td>\n",
       "      <td>F</td>\n",
       "    </tr>\n",
       "  </tbody>\n",
       "</table>\n",
       "</div>"
      ],
      "text/plain": [
       "     Nome  Nota_Matematica  Nota_Portugues  Horas_Estudo_Diarias  Idade Genero\n",
       "0     Ana               98              88              4.464705     16      F\n",
       "1     Bob               88              68              3.404460     16      M\n",
       "2  Carlos               74              72              3.832290     16      M\n",
       "3   Diana               67              60              1.082338     15      F\n",
       "4     Eva               80              60              4.879639     15      F"
      ]
     },
     "execution_count": 9,
     "metadata": {},
     "output_type": "execute_result"
    }
   ],
   "source": [
    "import numpy as np\n",
    "from IPython.display import display\n",
    "\n",
    "np.random.seed(42)\n",
    "\n",
    "data = {\n",
    "    'Nome':['Ana', 'Bob', 'Carlos', 'Diana', 'Eva'],\n",
    "    'Nota_Matematica': np.random.randint(60, 100, 5),\n",
    "    'Nota_Portugues': np.random.randint(50, 95, 5),\n",
    "    'Horas_Estudo_Diarias': np.random.uniform(1, 5, 5),\n",
    "    'Idade': np.random.randint(15, 18, 5),\n",
    "    'Genero': ['F', 'M', 'M', 'F', 'F']\n",
    "}\n",
    "\n",
    "df3 = pd.DataFrame(data)\n",
    "df3"
   ]
  },
  {
   "cell_type": "code",
   "execution_count": 10,
   "id": "8455b197-7527-4bdb-afa5-7fc2bc265fd7",
   "metadata": {
    "scrolled": true
   },
   "outputs": [
    {
     "data": {
      "text/html": [
       "<div>\n",
       "<style scoped>\n",
       "    .dataframe tbody tr th:only-of-type {\n",
       "        vertical-align: middle;\n",
       "    }\n",
       "\n",
       "    .dataframe tbody tr th {\n",
       "        vertical-align: top;\n",
       "    }\n",
       "\n",
       "    .dataframe thead th {\n",
       "        text-align: right;\n",
       "    }\n",
       "</style>\n",
       "<table border=\"1\" class=\"dataframe\">\n",
       "  <thead>\n",
       "    <tr style=\"text-align: right;\">\n",
       "      <th></th>\n",
       "      <th>Nota_Matematica</th>\n",
       "    </tr>\n",
       "  </thead>\n",
       "  <tbody>\n",
       "    <tr>\n",
       "      <th>count</th>\n",
       "      <td>5.000000</td>\n",
       "    </tr>\n",
       "    <tr>\n",
       "      <th>mean</th>\n",
       "      <td>81.400000</td>\n",
       "    </tr>\n",
       "    <tr>\n",
       "      <th>std</th>\n",
       "      <td>12.074767</td>\n",
       "    </tr>\n",
       "    <tr>\n",
       "      <th>min</th>\n",
       "      <td>67.000000</td>\n",
       "    </tr>\n",
       "    <tr>\n",
       "      <th>25%</th>\n",
       "      <td>74.000000</td>\n",
       "    </tr>\n",
       "    <tr>\n",
       "      <th>50%</th>\n",
       "      <td>80.000000</td>\n",
       "    </tr>\n",
       "    <tr>\n",
       "      <th>75%</th>\n",
       "      <td>88.000000</td>\n",
       "    </tr>\n",
       "    <tr>\n",
       "      <th>max</th>\n",
       "      <td>98.000000</td>\n",
       "    </tr>\n",
       "  </tbody>\n",
       "</table>\n",
       "</div>"
      ],
      "text/plain": [
       "       Nota_Matematica\n",
       "count         5.000000\n",
       "mean         81.400000\n",
       "std          12.074767\n",
       "min          67.000000\n",
       "25%          74.000000\n",
       "50%          80.000000\n",
       "75%          88.000000\n",
       "max          98.000000"
      ]
     },
     "metadata": {},
     "output_type": "display_data"
    },
    {
     "data": {
      "text/html": [
       "<div>\n",
       "<style scoped>\n",
       "    .dataframe tbody tr th:only-of-type {\n",
       "        vertical-align: middle;\n",
       "    }\n",
       "\n",
       "    .dataframe tbody tr th {\n",
       "        vertical-align: top;\n",
       "    }\n",
       "\n",
       "    .dataframe thead th {\n",
       "        text-align: right;\n",
       "    }\n",
       "</style>\n",
       "<table border=\"1\" class=\"dataframe\">\n",
       "  <thead>\n",
       "    <tr style=\"text-align: right;\">\n",
       "      <th></th>\n",
       "      <th>Nota_Portugues</th>\n",
       "    </tr>\n",
       "  </thead>\n",
       "  <tbody>\n",
       "    <tr>\n",
       "      <th>count</th>\n",
       "      <td>5.000000</td>\n",
       "    </tr>\n",
       "    <tr>\n",
       "      <th>mean</th>\n",
       "      <td>69.600000</td>\n",
       "    </tr>\n",
       "    <tr>\n",
       "      <th>std</th>\n",
       "      <td>11.523888</td>\n",
       "    </tr>\n",
       "    <tr>\n",
       "      <th>min</th>\n",
       "      <td>60.000000</td>\n",
       "    </tr>\n",
       "    <tr>\n",
       "      <th>25%</th>\n",
       "      <td>60.000000</td>\n",
       "    </tr>\n",
       "    <tr>\n",
       "      <th>50%</th>\n",
       "      <td>68.000000</td>\n",
       "    </tr>\n",
       "    <tr>\n",
       "      <th>75%</th>\n",
       "      <td>72.000000</td>\n",
       "    </tr>\n",
       "    <tr>\n",
       "      <th>max</th>\n",
       "      <td>88.000000</td>\n",
       "    </tr>\n",
       "  </tbody>\n",
       "</table>\n",
       "</div>"
      ],
      "text/plain": [
       "       Nota_Portugues\n",
       "count        5.000000\n",
       "mean        69.600000\n",
       "std         11.523888\n",
       "min         60.000000\n",
       "25%         60.000000\n",
       "50%         68.000000\n",
       "75%         72.000000\n",
       "max         88.000000"
      ]
     },
     "metadata": {},
     "output_type": "display_data"
    },
    {
     "data": {
      "text/html": [
       "<div>\n",
       "<style scoped>\n",
       "    .dataframe tbody tr th:only-of-type {\n",
       "        vertical-align: middle;\n",
       "    }\n",
       "\n",
       "    .dataframe tbody tr th {\n",
       "        vertical-align: top;\n",
       "    }\n",
       "\n",
       "    .dataframe thead th {\n",
       "        text-align: right;\n",
       "    }\n",
       "</style>\n",
       "<table border=\"1\" class=\"dataframe\">\n",
       "  <thead>\n",
       "    <tr style=\"text-align: right;\">\n",
       "      <th></th>\n",
       "      <th>Horas_Estudo_Diarias</th>\n",
       "    </tr>\n",
       "  </thead>\n",
       "  <tbody>\n",
       "    <tr>\n",
       "      <th>count</th>\n",
       "      <td>5.000000</td>\n",
       "    </tr>\n",
       "    <tr>\n",
       "      <th>mean</th>\n",
       "      <td>3.532686</td>\n",
       "    </tr>\n",
       "    <tr>\n",
       "      <th>std</th>\n",
       "      <td>1.482679</td>\n",
       "    </tr>\n",
       "    <tr>\n",
       "      <th>min</th>\n",
       "      <td>1.082338</td>\n",
       "    </tr>\n",
       "    <tr>\n",
       "      <th>25%</th>\n",
       "      <td>3.404460</td>\n",
       "    </tr>\n",
       "    <tr>\n",
       "      <th>50%</th>\n",
       "      <td>3.832290</td>\n",
       "    </tr>\n",
       "    <tr>\n",
       "      <th>75%</th>\n",
       "      <td>4.464705</td>\n",
       "    </tr>\n",
       "    <tr>\n",
       "      <th>max</th>\n",
       "      <td>4.879639</td>\n",
       "    </tr>\n",
       "  </tbody>\n",
       "</table>\n",
       "</div>"
      ],
      "text/plain": [
       "       Horas_Estudo_Diarias\n",
       "count              5.000000\n",
       "mean               3.532686\n",
       "std                1.482679\n",
       "min                1.082338\n",
       "25%                3.404460\n",
       "50%                3.832290\n",
       "75%                4.464705\n",
       "max                4.879639"
      ]
     },
     "metadata": {},
     "output_type": "display_data"
    },
    {
     "data": {
      "text/html": [
       "<div>\n",
       "<style scoped>\n",
       "    .dataframe tbody tr th:only-of-type {\n",
       "        vertical-align: middle;\n",
       "    }\n",
       "\n",
       "    .dataframe tbody tr th {\n",
       "        vertical-align: top;\n",
       "    }\n",
       "\n",
       "    .dataframe thead th {\n",
       "        text-align: right;\n",
       "    }\n",
       "</style>\n",
       "<table border=\"1\" class=\"dataframe\">\n",
       "  <thead>\n",
       "    <tr style=\"text-align: right;\">\n",
       "      <th></th>\n",
       "      <th>Idade</th>\n",
       "    </tr>\n",
       "  </thead>\n",
       "  <tbody>\n",
       "    <tr>\n",
       "      <th>count</th>\n",
       "      <td>5.000000</td>\n",
       "    </tr>\n",
       "    <tr>\n",
       "      <th>mean</th>\n",
       "      <td>15.600000</td>\n",
       "    </tr>\n",
       "    <tr>\n",
       "      <th>std</th>\n",
       "      <td>0.547723</td>\n",
       "    </tr>\n",
       "    <tr>\n",
       "      <th>min</th>\n",
       "      <td>15.000000</td>\n",
       "    </tr>\n",
       "    <tr>\n",
       "      <th>25%</th>\n",
       "      <td>15.000000</td>\n",
       "    </tr>\n",
       "    <tr>\n",
       "      <th>50%</th>\n",
       "      <td>16.000000</td>\n",
       "    </tr>\n",
       "    <tr>\n",
       "      <th>75%</th>\n",
       "      <td>16.000000</td>\n",
       "    </tr>\n",
       "    <tr>\n",
       "      <th>max</th>\n",
       "      <td>16.000000</td>\n",
       "    </tr>\n",
       "  </tbody>\n",
       "</table>\n",
       "</div>"
      ],
      "text/plain": [
       "           Idade\n",
       "count   5.000000\n",
       "mean   15.600000\n",
       "std     0.547723\n",
       "min    15.000000\n",
       "25%    15.000000\n",
       "50%    16.000000\n",
       "75%    16.000000\n",
       "max    16.000000"
      ]
     },
     "metadata": {},
     "output_type": "display_data"
    }
   ],
   "source": [
    "# Calcule estatisticas descritivas para todas as variáveis numéricas do conjunto de dados\n",
    "desc_mat = df3[\"Nota_Matematica\"].describe().to_frame()\n",
    "display(desc_mat)\n",
    "\n",
    "desc_port = df3[\"Nota_Portugues\"].describe().to_frame()\n",
    "display(desc_port)\n",
    "\n",
    "desc_estud = df3[\"Horas_Estudo_Diarias\"].describe().to_frame()\n",
    "display(desc_estud)\n",
    "\n",
    "desc_idade = df3[\"Idade\"].describe().to_frame()\n",
    "display(desc_idade)"
   ]
  },
  {
   "cell_type": "code",
   "execution_count": 11,
   "id": "470132fb-46d2-4a65-b086-b601bdf2c4a9",
   "metadata": {},
   "outputs": [
    {
     "data": {
      "text/plain": [
       "<Axes: title={'center': 'Azul-Mat | Laranja-Port'}, xlabel='X', ylabel='Y'>"
      ]
     },
     "execution_count": 11,
     "metadata": {},
     "output_type": "execute_result"
    },
    {
     "data": {
      "image/png": "[encoded data removed]",
      "text/plain": [
       "<Figure size 640x480 with 1 Axes>"
      ]
     },
     "metadata": {},
     "output_type": "display_data"
    }
   ],
   "source": [
    "# Crie um gráfico que mostre a distribuição das notas em Matemática e Português. \n",
    "import matplotlib.pyplot as plt\n",
    "\n",
    "df3['Nota_Matematica'].plot(kind='line', grid=True, title='Azul-Mat | Laranja-Port', ylabel='Y', xlabel='X')\n",
    "df3['Nota_Portugues'].plot(kind='line', grid=True, title='Azul-Mat | Laranja-Port', ylabel='Y', xlabel='X')"
   ]
  },
  {
   "cell_type": "code",
   "execution_count": 12,
   "id": "4ae7d6f7-d910-4f91-992d-e456b7540e25",
   "metadata": {},
   "outputs": [
    {
     "data": {
      "image/png": "[encoded data removed]",
      "text/plain": [
       "<Figure size 640x480 with 1 Axes>"
      ]
     },
     "metadata": {},
     "output_type": "display_data"
    }
   ],
   "source": [
    "# Analise a relação entre as horas de estudo diárias e as notas em Matemática e Português. Alguma correlação aparente?\n",
    "horas = df3['Horas_Estudo_Diarias'].plot(kind='line', grid=True, title='Horas de estudo', xlabel='Est')\n",
    "notas = df3['Nota_Matematica'].plot(kind='line', grid=True, title='grafico', ylabel='Notas') and df3['Nota_Portugues'].plot(kind='line', grid=True, title='grafico', ylabel='Notas') \n",
    "\n",
    "graphic = [horas, notas]"
   ]
  },
  {
   "cell_type": "code",
   "execution_count": 13,
   "id": "742dc148-c040-4fed-a994-6a8738d1b19a",
   "metadata": {},
   "outputs": [
    {
     "name": "stdout",
     "output_type": "stream",
     "text": [
      "A média de notas do sexo FEMININO É 81.7\n",
      "A média de notas do sexo MASCULINO é 81.0\n"
     ]
    }
   ],
   "source": [
    "# Compare as notas médias de Matemática e Português entre alunos do sexo masculino e feminino\n",
    "fem = df3.query('Genero == \"F\"')\n",
    "masc = df3.query('Genero == \"M\"')\n",
    "\n",
    "med_fem = fem['Nota_Matematica'].mean()\n",
    "med_masc = masc['Nota_Matematica'].mean()\n",
    "\n",
    "print(f'A média de notas do sexo FEMININO É {med_fem:.1f}\\nA média de notas do sexo MASCULINO é {med_masc:.1f}')"
   ]
  },
  {
   "cell_type": "markdown",
   "id": "7381c3cf-924d-4d53-8ccf-108c179f50ea",
   "metadata": {},
   "source": [
    "## Conjunto de Dados Fictício"
   ]
  },
  {
   "cell_type": "code",
   "execution_count": 14,
   "id": "d9bbd358-e11f-4323-b285-fd4b6cf8538f",
   "metadata": {},
   "outputs": [
    {
     "data": {
      "text/html": [
       "<div>\n",
       "<style scoped>\n",
       "    .dataframe tbody tr th:only-of-type {\n",
       "        vertical-align: middle;\n",
       "    }\n",
       "\n",
       "    .dataframe tbody tr th {\n",
       "        vertical-align: top;\n",
       "    }\n",
       "\n",
       "    .dataframe thead th {\n",
       "        text-align: right;\n",
       "    }\n",
       "</style>\n",
       "<table border=\"1\" class=\"dataframe\">\n",
       "  <thead>\n",
       "    <tr style=\"text-align: right;\">\n",
       "      <th></th>\n",
       "      <th>Nome</th>\n",
       "      <th>Idade</th>\n",
       "      <th>Nota_Matematica</th>\n",
       "      <th>Nota_Portugues</th>\n",
       "      <th>Horas_Estudos_Diarias</th>\n",
       "      <th>Genero</th>\n",
       "    </tr>\n",
       "  </thead>\n",
       "  <tbody>\n",
       "    <tr>\n",
       "      <th>0</th>\n",
       "      <td>Ana</td>\n",
       "      <td>17</td>\n",
       "      <td>70</td>\n",
       "      <td>93</td>\n",
       "      <td>1</td>\n",
       "      <td>F</td>\n",
       "    </tr>\n",
       "    <tr>\n",
       "      <th>1</th>\n",
       "      <td>Bob</td>\n",
       "      <td>15</td>\n",
       "      <td>70</td>\n",
       "      <td>79</td>\n",
       "      <td>3</td>\n",
       "      <td>M</td>\n",
       "    </tr>\n",
       "    <tr>\n",
       "      <th>2</th>\n",
       "      <td>Carlos</td>\n",
       "      <td>17</td>\n",
       "      <td>83</td>\n",
       "      <td>87</td>\n",
       "      <td>3</td>\n",
       "      <td>M</td>\n",
       "    </tr>\n",
       "    <tr>\n",
       "      <th>3</th>\n",
       "      <td>Diana</td>\n",
       "      <td>17</td>\n",
       "      <td>95</td>\n",
       "      <td>51</td>\n",
       "      <td>3</td>\n",
       "      <td>F</td>\n",
       "    </tr>\n",
       "    <tr>\n",
       "      <th>4</th>\n",
       "      <td>Eva</td>\n",
       "      <td>15</td>\n",
       "      <td>99</td>\n",
       "      <td>70</td>\n",
       "      <td>2</td>\n",
       "      <td>F</td>\n",
       "    </tr>\n",
       "    <tr>\n",
       "      <th>5</th>\n",
       "      <td>Frank</td>\n",
       "      <td>15</td>\n",
       "      <td>83</td>\n",
       "      <td>82</td>\n",
       "      <td>4</td>\n",
       "      <td>M</td>\n",
       "    </tr>\n",
       "    <tr>\n",
       "      <th>6</th>\n",
       "      <td>Giselle</td>\n",
       "      <td>17</td>\n",
       "      <td>62</td>\n",
       "      <td>61</td>\n",
       "      <td>4</td>\n",
       "      <td>F</td>\n",
       "    </tr>\n",
       "    <tr>\n",
       "      <th>7</th>\n",
       "      <td>Hugo</td>\n",
       "      <td>16</td>\n",
       "      <td>81</td>\n",
       "      <td>71</td>\n",
       "      <td>4</td>\n",
       "      <td>M</td>\n",
       "    </tr>\n",
       "    <tr>\n",
       "      <th>8</th>\n",
       "      <td>Ivy</td>\n",
       "      <td>17</td>\n",
       "      <td>61</td>\n",
       "      <td>93</td>\n",
       "      <td>4</td>\n",
       "      <td>F</td>\n",
       "    </tr>\n",
       "    <tr>\n",
       "      <th>9</th>\n",
       "      <td>Jack</td>\n",
       "      <td>17</td>\n",
       "      <td>83</td>\n",
       "      <td>74</td>\n",
       "      <td>3</td>\n",
       "      <td>M</td>\n",
       "    </tr>\n",
       "  </tbody>\n",
       "</table>\n",
       "</div>"
      ],
      "text/plain": [
       "      Nome  Idade  Nota_Matematica  Nota_Portugues  Horas_Estudos_Diarias  \\\n",
       "0      Ana     17               70              93                      1   \n",
       "1      Bob     15               70              79                      3   \n",
       "2   Carlos     17               83              87                      3   \n",
       "3    Diana     17               95              51                      3   \n",
       "4      Eva     15               99              70                      2   \n",
       "5    Frank     15               83              82                      4   \n",
       "6  Giselle     17               62              61                      4   \n",
       "7     Hugo     16               81              71                      4   \n",
       "8      Ivy     17               61              93                      4   \n",
       "9     Jack     17               83              74                      3   \n",
       "\n",
       "  Genero  \n",
       "0      F  \n",
       "1      M  \n",
       "2      M  \n",
       "3      F  \n",
       "4      F  \n",
       "5      M  \n",
       "6      F  \n",
       "7      M  \n",
       "8      F  \n",
       "9      M  "
      ]
     },
     "execution_count": 14,
     "metadata": {},
     "output_type": "execute_result"
    }
   ],
   "source": [
    "import numpy as np\n",
    "np.random.seed(42)\n",
    "\n",
    "dataset = {\n",
    "    'Nome': ['Ana', 'Bob', 'Carlos', 'Diana', 'Eva', 'Frank', 'Giselle', 'Hugo', 'Ivy', 'Jack'],\n",
    "    'Idade': np.random.randint(15, 18, 10),\n",
    "    'Nota_Matematica': np.random.randint(60, 100, 10),\n",
    "    'Nota_Portugues': np.random.randint(50, 95, 10),\n",
    "    'Horas_Estudos_Diarias': np.random.randint(1, 5, 10),\n",
    "    'Genero': ['F', 'M', 'M', 'F', 'F', 'M', 'F', 'M', 'F', 'M']\n",
    "}\n",
    "\n",
    "data = pd.DataFrame(dataset)\n",
    "data"
   ]
  },
  {
   "cell_type": "code",
   "execution_count": 15,
   "id": "3b22909f-5652-4cb4-8d50-07d9a28abca3",
   "metadata": {},
   "outputs": [
    {
     "data": {
      "text/html": [
       "<div>\n",
       "<style scoped>\n",
       "    .dataframe tbody tr th:only-of-type {\n",
       "        vertical-align: middle;\n",
       "    }\n",
       "\n",
       "    .dataframe tbody tr th {\n",
       "        vertical-align: top;\n",
       "    }\n",
       "\n",
       "    .dataframe thead th {\n",
       "        text-align: right;\n",
       "    }\n",
       "</style>\n",
       "<table border=\"1\" class=\"dataframe\">\n",
       "  <thead>\n",
       "    <tr style=\"text-align: right;\">\n",
       "      <th></th>\n",
       "      <th>Idade</th>\n",
       "      <th>Nota_Matematica</th>\n",
       "      <th>Nota_Portugues</th>\n",
       "      <th>Horas_Estudos_Diarias</th>\n",
       "    </tr>\n",
       "  </thead>\n",
       "  <tbody>\n",
       "    <tr>\n",
       "      <th>count</th>\n",
       "      <td>10.000000</td>\n",
       "      <td>10.000000</td>\n",
       "      <td>10.000000</td>\n",
       "      <td>10.000000</td>\n",
       "    </tr>\n",
       "    <tr>\n",
       "      <th>mean</th>\n",
       "      <td>16.300000</td>\n",
       "      <td>78.700000</td>\n",
       "      <td>76.100000</td>\n",
       "      <td>3.100000</td>\n",
       "    </tr>\n",
       "    <tr>\n",
       "      <th>std</th>\n",
       "      <td>0.948683</td>\n",
       "      <td>12.832684</td>\n",
       "      <td>13.576532</td>\n",
       "      <td>0.994429</td>\n",
       "    </tr>\n",
       "    <tr>\n",
       "      <th>min</th>\n",
       "      <td>15.000000</td>\n",
       "      <td>61.000000</td>\n",
       "      <td>51.000000</td>\n",
       "      <td>1.000000</td>\n",
       "    </tr>\n",
       "    <tr>\n",
       "      <th>25%</th>\n",
       "      <td>15.250000</td>\n",
       "      <td>70.000000</td>\n",
       "      <td>70.250000</td>\n",
       "      <td>3.000000</td>\n",
       "    </tr>\n",
       "    <tr>\n",
       "      <th>50%</th>\n",
       "      <td>17.000000</td>\n",
       "      <td>82.000000</td>\n",
       "      <td>76.500000</td>\n",
       "      <td>3.000000</td>\n",
       "    </tr>\n",
       "    <tr>\n",
       "      <th>75%</th>\n",
       "      <td>17.000000</td>\n",
       "      <td>83.000000</td>\n",
       "      <td>85.750000</td>\n",
       "      <td>4.000000</td>\n",
       "    </tr>\n",
       "    <tr>\n",
       "      <th>max</th>\n",
       "      <td>17.000000</td>\n",
       "      <td>99.000000</td>\n",
       "      <td>93.000000</td>\n",
       "      <td>4.000000</td>\n",
       "    </tr>\n",
       "  </tbody>\n",
       "</table>\n",
       "</div>"
      ],
      "text/plain": [
       "           Idade  Nota_Matematica  Nota_Portugues  Horas_Estudos_Diarias\n",
       "count  10.000000        10.000000       10.000000              10.000000\n",
       "mean   16.300000        78.700000       76.100000               3.100000\n",
       "std     0.948683        12.832684       13.576532               0.994429\n",
       "min    15.000000        61.000000       51.000000               1.000000\n",
       "25%    15.250000        70.000000       70.250000               3.000000\n",
       "50%    17.000000        82.000000       76.500000               3.000000\n",
       "75%    17.000000        83.000000       85.750000               4.000000\n",
       "max    17.000000        99.000000       93.000000               4.000000"
      ]
     },
     "execution_count": 15,
     "metadata": {},
     "output_type": "execute_result"
    }
   ],
   "source": [
    "# Calcule as estatisticas descritivas para as variáveis numéricas(Idade, Nota_Matematica, Nota_Portugues e Horas_Estudo_Diarias)\n",
    "describe = data[['Idade', 'Nota_Matematica', 'Nota_Portugues', 'Horas_Estudos_Diarias']]\n",
    "describe.describe()"
   ]
  },
  {
   "cell_type": "code",
   "execution_count": 16,
   "id": "019fcce5-def7-4328-8a7c-8a3883f7543b",
   "metadata": {},
   "outputs": [
    {
     "data": {
      "text/plain": [
       "<Axes: title={'center': 'Idade dos Estudantes'}, xlabel='X', ylabel='Y'>"
      ]
     },
     "execution_count": 16,
     "metadata": {},
     "output_type": "execute_result"
    },
    {
     "data": {
      "image/png": "[encoded data removed]",
      "text/plain": [
       "<Figure size 640x480 with 1 Axes>"
      ]
     },
     "metadata": {},
     "output_type": "display_data"
    }
   ],
   "source": [
    "# Crie um gráfico de barras que mostre a distribuição das idades dos estudantes.\n",
    "age = data['Idade'].plot(kind='line', grid=True, title='Idade dos Estudantes', xlabel='X', ylabel='Y')\n",
    "age"
   ]
  },
  {
   "cell_type": "code",
   "execution_count": 17,
   "id": "56afea69-3884-467d-9905-57a9bea7d086",
   "metadata": {},
   "outputs": [
    {
     "data": {
      "image/png": "[encoded data removed]",
      "text/plain": [
       "<Figure size 640x480 with 2 Axes>"
      ]
     },
     "metadata": {},
     "output_type": "display_data"
    }
   ],
   "source": [
    "# Calcule a correlação entre as notas de Matemática e Português. Existe uma correlação aparente?\n",
    "correlacao = data[['Nota_Matematica', 'Nota_Portugues', 'Horas_Estudos_Diarias']]\n",
    "plt.scatter(correlacao['Nota_Matematica'], correlacao['Nota_Portugues'], c=correlacao['Horas_Estudos_Diarias'], cmap='viridis', alpha=1)\n",
    "plt.colorbar(label='Horas de Estudo Diárias')\n",
    "plt.xlabel('Nota em Matemática')\n",
    "plt.ylabel('Nota em Português')\n",
    "plt.title('Relação entre Notas e Horas de Estudo Diárias')\n",
    "plt.grid(True)\n",
    "plt.show()"
   ]
  },
  {
   "cell_type": "code",
   "execution_count": 18,
   "id": "a06370ab-9cc9-4c00-bb1f-f47028107347",
   "metadata": {},
   "outputs": [
    {
     "name": "stdout",
     "output_type": "stream",
     "text": [
      "A média das notas das mulheres é 77.4\n",
      "A média das notas dos homens é 80.0\n",
      "E a diferança entre os gêneros é 2.6\n"
     ]
    }
   ],
   "source": [
    "# Compare as notas médias de Matemática entre alunos do sexo feminino e masculino. Existe uma diferença significativa?\n",
    "search = data[['Nota_Matematica', 'Genero']]\n",
    "\n",
    "fem = search.query('Genero == \"F\"')\n",
    "med_fem = fem['Nota_Matematica'].mean()\n",
    "\n",
    "masc = search.query('Genero == \"M\"')\n",
    "med_masc = masc['Nota_Matematica'].mean()\n",
    "\n",
    "mean = med_masc - med_fem\n",
    "\n",
    "print(f'A média das notas das mulheres é {med_fem:.1f}')\n",
    "print(f'A média das notas dos homens é {med_masc:.1f}')\n",
    "print(f'E a diferança entre os gêneros é {mean:.1f}')"
   ]
  },
  {
   "cell_type": "code",
   "execution_count": 19,
   "id": "4d4fb7db-acb3-46d9-9988-ca6b64df5266",
   "metadata": {},
   "outputs": [
    {
     "data": {
      "image/png": "[encoded data removed]",
      "text/plain": [
       "<Figure size 640x480 with 1 Axes>"
      ]
     },
     "metadata": {},
     "output_type": "display_data"
    }
   ],
   "source": [
    "# Crie um gráfico de dispersão para visualizar a relação entre a idade dos estudantes e suas notas em Matemática.\n",
    "\n",
    "search = data[['Idade', 'Nota_Matematica']]\n",
    "plt.scatter(search['Idade'], search['Nota_Matematica'], alpha=1)\n",
    "plt.xlabel('Idade')\n",
    "plt.ylabel('Nota em Matematica')\n",
    "plt.title('Relação entre a idade dos estudantes e suas notas em Matemática')\n",
    "plt.grid(True)\n",
    "plt.show()"
   ]
  },
  {
   "cell_type": "code",
   "execution_count": 20,
   "id": "e5bdc20d-231c-4231-96f5-1b3b40100d2b",
   "metadata": {},
   "outputs": [
    {
     "data": {
      "image/png": "[encoded data removed]",
      "text/plain": [
       "<Figure size 640x480 with 1 Axes>"
      ]
     },
     "metadata": {},
     "output_type": "display_data"
    }
   ],
   "source": [
    "# Criar um gráfico de barras empilhadas para mostrar a distribuição das notas em Matemática e Português separadas por gênero.\n",
    "from IPython.display import display\n",
    "\n",
    "fem = data[data['Genero'] == \"F\"]\n",
    "masc = data[data['Genero'] == \"M\"]\n",
    "\n",
    "plt.bar(fem['Nome'], fem['Nota_Matematica'], label='Matemática - Feminino', alpha=0.7)\n",
    "plt.bar(fem['Nome'], fem['Nota_Portugues'], label='Portugues - Feminino', alpha=0.7, bottom=fem['Nota_Matematica'])\n",
    "\n",
    "plt.bar(masc['Nome'], masc['Nota_Matematica'], label='Matemática - Masculino', alpha=0.7)\n",
    "plt.bar(masc['Nome'], masc['Nota_Portugues'], label='Portugues - Masculino', alpha=0.7, bottom=fem['Nota_Matematica'])\n",
    "\n",
    "plt.xlabel('Alunos')\n",
    "plt.ylabel('Notas')\n",
    "plt.title('Distribuição das notas em Matemática e Português')\n",
    "plt.legend()\n",
    "plt.show()"
   ]
  },
  {
   "cell_type": "code",
   "execution_count": 21,
   "id": "d9cbdcde-77e9-41de-a946-fd9f47cb454e",
   "metadata": {},
   "outputs": [
    {
     "name": "stdout",
     "output_type": "stream",
     "text": [
      "A correlação entre idade e horas de estudo diárias é: -0.04\n"
     ]
    }
   ],
   "source": [
    "# Calcular o coeficiente de correlação entre a idade dos estudantes e o tempo diário de estudo.\n",
    "correlacao = data['Idade'].corr(data['Horas_Estudos_Diarias'])\n",
    "print(f'A correlação entre idade e horas de estudo diárias é: {correlacao:.2f}')"
   ]
  },
  {
   "cell_type": "code",
   "execution_count": 22,
   "id": "9187d05c-aaec-4437-83a9-8c5652f720f5",
   "metadata": {},
   "outputs": [
    {
     "name": "stdout",
     "output_type": "stream",
     "text": [
      "A média das notas dos estudantes de 17 anos em Português é 76.5 e em Matemática é 75.7\n",
      "\n",
      "A média das notas dos estudantes de 16 anos em Português é 71.0 e em Matemática é 81.0\n",
      "\n",
      "A média das notas dos estudantes de 15 anos em Português é 77.0 e em Matemática é 84.0\n",
      "\n"
     ]
    }
   ],
   "source": [
    "# Dividir os estudantes em faixas etárias (por exemplo, 15-16, 16-17, 17-18 anos) e comparar a média das notas em Matemática e Português em cada faixa.\n",
    "age1 = data.query('Idade == 17')\n",
    "valuem1 = age1['Nota_Matematica'].mean()\n",
    "valuep1 = age1['Nota_Portugues'].mean()\n",
    "\n",
    "age2 = data.query('Idade == 16')\n",
    "valuem2 = age2['Nota_Matematica'].mean()\n",
    "valuep2 = age2['Nota_Portugues'].mean()\n",
    "\n",
    "age3 = data.query('Idade == 15')\n",
    "valuem3 = age3['Nota_Matematica'].mean()\n",
    "valuep3 = age3['Nota_Portugues'].mean()\n",
    "\n",
    "print(f'A média das notas dos estudantes de 17 anos em Português é {valuep1:.1f} e em Matemática é {valuem1:.1f}\\n')\n",
    "print(f'A média das notas dos estudantes de 16 anos em Português é {valuep2:.1f} e em Matemática é {valuem2:.1f}\\n')\n",
    "print(f'A média das notas dos estudantes de 15 anos em Português é {valuep3:.1f} e em Matemática é {valuem3:.1f}\\n')"
   ]
  },
  {
   "cell_type": "code",
   "execution_count": 37,
   "id": "955052d4-4c14-4d57-a68f-0a470f0c3e9a",
   "metadata": {},
   "outputs": [
    {
     "name": "stdout",
     "output_type": "stream",
     "text": [
      "A média das notas em Matematica das mulheres é 77.4\n",
      "A média das notas em Português das mulheres é 73.6\n",
      "\n",
      "A média das notas em Matematica dos homens é 80.0\n",
      "A média das notas em Português dos homens é 78.6\n",
      "\n",
      "A diferença das médias entre as notas de matematica dos homens e das mulheres é 2.6\n",
      "A diferença das médias entre as notas de Português dos homens e das mulheres é 5.0\n"
     ]
    }
   ],
   "source": [
    "# Analisar se existe uma diferença significativa nas notas médias entre gêneros (Feminino e Masculino)\n",
    "fem = data.query('Genero ==\"F\"')\n",
    "print(f'A média das notas em Matematica das mulheres é {fem['Nota_Matematica'].mean()}')\n",
    "print(f'A média das notas em Português das mulheres é {fem['Nota_Portugues'].mean()}\\n')\n",
    "\n",
    "masc = data.query('Genero ==\"M\"')\n",
    "print(f'A média das notas em Matematica dos homens é {masc['Nota_Matematica'].mean()}')\n",
    "print(f'A média das notas em Português dos homens é {masc['Nota_Portugues'].mean()}\\n')\n",
    "\n",
    "print(f'A diferença das médias entre as notas de matematica dos homens e das mulheres é {masc['Nota_Matematica'].mean() - fem['Nota_Matematica'].mean():.1f}')\n",
    "print(f'A diferença das médias entre as notas de Português dos homens e das mulheres é {masc['Nota_Portugues'].mean() - fem['Nota_Portugues'].mean():.1f}')"
   ]
  },
  {
   "cell_type": "code",
   "execution_count": 56,
   "id": "a4c63e8f-9c53-445f-8ca2-9f89a5114115",
   "metadata": {},
   "outputs": [
    {
     "data": {
      "image/png": "[encoded data removed]",
      "text/plain": [
       "<Figure size 640x480 with 1 Axes>"
      ]
     },
     "metadata": {},
     "output_type": "display_data"
    }
   ],
   "source": [
    "# Criar um histograma para visualizar a distribuição das horas de estudo diárias entre os estudantes.\n",
    "\n",
    "plt.hist(data['Horas_Estudos_Diarias'], bins=10, edgecolor='black', alpha=0.7)\n",
    "\n",
    "plt.xlabel('Horas de Estudos Diarias')\n",
    "plt.ylabel('Freequência')\n",
    "plt.title('Distribuição das Horas de estudos dos alunos')\n",
    "plt.show()"
   ]
  },
  {
   "cell_type": "code",
   "execution_count": 62,
   "id": "d18bde8f-d4cd-4516-941d-e290c537cdbb",
   "metadata": {},
   "outputs": [
    {
     "name": "stdout",
     "output_type": "stream",
     "text": [
      "A correlação das notas é -0.45\n"
     ]
    }
   ],
   "source": [
    "# Calcular a correlação entre as notas em Matemática e Português. Existe uma forte correlação entre essas duas disciplinas?\n",
    "correlacao = data['Nota_Matematica'].corr(data['Nota_Portugues'])\n",
    "print(f'A correlação das notas é {correlacao:.2f}')"
   ]
  },
  {
   "cell_type": "code",
   "execution_count": 81,
   "id": "f9b5c1a1-3632-4175-8cf2-b48efcb989b6",
   "metadata": {},
   "outputs": [
    {
     "name": "stdout",
     "output_type": "stream",
     "text": [
      "Possiveis outliers em Matemática:\n",
      "Empty DataFrame\n",
      "Columns: [Nome, Nota_Matematica]\n",
      "Index: []\n",
      "\n",
      "Possiveis outliers em Português:\n",
      "Empty DataFrame\n",
      "Columns: [Nome, Nota_Portugues]\n",
      "Index: []\n"
     ]
    }
   ],
   "source": [
    "# Identificar e analisar possíveis outliers nas notas em Matemática e Português.\n",
    "out1_mat = data['Nota_Matematica'].quantile(0.25)\n",
    "out2_mat = data['Nota_Matematica'].quantile(0.75)\n",
    "icr_mat = out2_mat - out1_mat\n",
    "\n",
    "out_mat = (data['Nota_Matematica'] < (out1_mat - 1.5 * icr_mat)) | (data['Nota_Matematica'] > (out2_mat + 1.5 * icr_mat))\n",
    "\n",
    "out1_port = data['Nota_Portugues'].quantile(0.25)\n",
    "out2_port = data['Nota_Portugues'].quantile(0.75)\n",
    "icr_port = out2_port - out1_port\n",
    "\n",
    "out_port = (data['Nota_Portugues'] < (out1_port - 1.5 * icr_port)) | (data['Nota_Portugues'] > (out2_port + 1.5 * icr_port))\n",
    "\n",
    "print(\"Possiveis outliers em Matemática:\")\n",
    "print(data[out_mat][['Nome', 'Nota_Matematica']])\n",
    "\n",
    "print(\"\\nPossiveis outliers em Português:\")\n",
    "print(data[out_port][['Nome', 'Nota_Portugues']])"
   ]
  },
  {
   "cell_type": "code",
   "execution_count": null,
   "id": "aa14ff70-57f5-404b-ac0c-cc865f95ca7c",
   "metadata": {},
   "outputs": [],
   "source": []
  },
  {
   "cell_type": "code",
   "execution_count": null,
   "id": "91d175a7-9cc7-47e3-aa9a-39fe90f8130d",
   "metadata": {},
   "outputs": [],
   "source": []
  },
  {
   "cell_type": "code",
   "execution_count": null,
   "id": "0e3547e1-4cfc-4276-af5f-769ec75f13d2",
   "metadata": {},
   "outputs": [],
   "source": []
  }
 ],
 "metadata": {
  "kernelspec": {
   "display_name": "Python 3 (ipykernel)",
   "language": "python",
   "name": "python3"
  },
  "language_info": {
   "codemirror_mode": {
    "name": "ipython",
    "version": 3
   },
   "file_extension": ".py",
   "mimetype": "text/x-python",
   "name": "python",
   "nbconvert_exporter": "python",
   "pygments_lexer": "ipython3",
   "version": "3.12.0"
  }
 },
 "nbformat": 4,
 "nbformat_minor": 5
}
