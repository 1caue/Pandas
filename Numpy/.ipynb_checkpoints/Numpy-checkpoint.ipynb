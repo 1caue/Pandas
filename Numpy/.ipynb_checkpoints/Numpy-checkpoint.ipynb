{
 "cells": [
  {
   "cell_type": "markdown",
   "id": "14443ad4-c389-415f-ad9b-861de35502f7",
   "metadata": {},
   "source": [
    "# Numpy"
   ]
  },
  {
   "cell_type": "code",
   "execution_count": 1,
   "id": "5fbeb8ff-cab6-4839-a567-9447bfce9fa5",
   "metadata": {},
   "outputs": [],
   "source": [
    "import numpy as np"
   ]
  },
  {
   "cell_type": "code",
   "execution_count": 16,
   "id": "3c66fedb-caf1-4e06-aa24-77cfb51aad37",
   "metadata": {},
   "outputs": [
    {
     "name": "stdout",
     "output_type": "stream",
     "text": [
      "[[  1   2   3   5   6]\n",
      " [ 73  85  91 104 141]]\n",
      "<class 'numpy.ndarray'>\n"
     ]
    }
   ],
   "source": [
    "a = np.array([[1, 2, 3, 5, 6], [73, 85, 91, 104, 141]])\n",
    "print(a)\n",
    "print(type(a))"
   ]
  },
  {
   "cell_type": "code",
   "execution_count": 52,
   "id": "3ebf83da-9b1c-4ee4-83e0-67be8aa384b9",
   "metadata": {},
   "outputs": [
    {
     "name": "stdout",
     "output_type": "stream",
     "text": [
      "[[[0. 0. 0. 0. 0.]\n",
      "  [0. 0. 0. 0. 0.]\n",
      "  [0. 0. 0. 0. 0.]]\n",
      "\n",
      " [[0. 0. 0. 0. 0.]\n",
      "  [0. 0. 0. 0. 0.]\n",
      "  [0. 0. 0. 0. 0.]]]\n"
     ]
    }
   ],
   "source": [
    "zeros = np.zeros(shape = (2, 3, 5))\n",
    "print(zeros)"
   ]
  },
  {
   "cell_type": "code",
   "execution_count": 24,
   "id": "b23e1fea-8ccc-45d2-bf5d-534b40bd8135",
   "metadata": {},
   "outputs": [
    {
     "name": "stdout",
     "output_type": "stream",
     "text": [
      "[[[1. 1.]\n",
      "  [1. 1.]]\n",
      "\n",
      " [[1. 1.]\n",
      "  [1. 1.]]]\n"
     ]
    }
   ],
   "source": [
    "ones = np.ones(shape = (2, 2, 2))\n",
    "print(ones)"
   ]
  },
  {
   "cell_type": "code",
   "execution_count": 26,
   "id": "2b1997df-37ef-41df-80da-047a73546062",
   "metadata": {},
   "outputs": [
    {
     "name": "stdout",
     "output_type": "stream",
     "text": [
      "[[1.08541501e-311 3.16202013e-322 0.00000000e+000 0.00000000e+000]\n",
      " [1.08433985e-311 1.74484604e-076 4.28007251e-033 3.60032237e+179]\n",
      " [2.05573122e+160 4.19472059e+175 1.51101868e+160 2.70097959e-056]]\n"
     ]
    }
   ],
   "source": [
    "vazio = np.empty((3, 4))\n",
    "print(vazio)"
   ]
  },
  {
   "cell_type": "code",
   "execution_count": 32,
   "id": "8de1649d-7b5c-4625-b590-c00ec06452cb",
   "metadata": {},
   "outputs": [
    {
     "name": "stdout",
     "output_type": "stream",
     "text": [
      "[ 50  80 110 140 170]\n"
     ]
    }
   ],
   "source": [
    "arr = np.arange(start=50, stop=200, step=30)\n",
    "print(arr)"
   ]
  },
  {
   "cell_type": "code",
   "execution_count": 35,
   "id": "dfa0b826-ed0c-41fe-bd34-bfea55cb0906",
   "metadata": {},
   "outputs": [
    {
     "name": "stdout",
     "output_type": "stream",
     "text": [
      "[ 0.  5. 10. 15. 20. 25. 30. 35. 40. 45. 50. 55. 60. 65. 70. 75. 80. 85.\n",
      " 90. 95.]\n"
     ]
    }
   ],
   "source": [
    "arr_line = np.linspace(0, 100, num=20, endpoint=False)\n",
    "print(arr_line)"
   ]
  },
  {
   "cell_type": "code",
   "execution_count": 55,
   "id": "be24d743-43bd-410f-9e39-4dbf27831a66",
   "metadata": {},
   "outputs": [
    {
     "name": "stdout",
     "output_type": "stream",
     "text": [
      "Tamanho do array nas suas Colunas e Linhas: (2, 3, 5)\n",
      "Tamanho do array multiplicando suas Colunas e Linhas: 30\n",
      "Quantidade de valores no array: 3\n"
     ]
    }
   ],
   "source": [
    "print('Tamanho do array nas suas Colunas e Linhas:',zeros.shape)\n",
    "print('Tamanho do array multiplicando suas Colunas e Linhas:',zeros.size)\n",
    "print('Quantidade de valores no array:', zeros.ndim)"
   ]
  },
  {
   "cell_type": "code",
   "execution_count": 56,
   "id": "e328ed7a-f86c-4acc-8ec3-77c764aeace5",
   "metadata": {},
   "outputs": [
    {
     "name": "stdout",
     "output_type": "stream",
     "text": [
      "1\n"
     ]
    }
   ],
   "source": [
    "d = np.array([1, 2, 3])\n",
    "print(d.ndim)"
   ]
  },
  {
   "cell_type": "code",
   "execution_count": 61,
   "id": "bd17984b-5053-4b41-8f77-523ed58ed3e8",
   "metadata": {},
   "outputs": [
    {
     "name": "stdout",
     "output_type": "stream",
     "text": [
      "Dimensões do array: (1, 3)\n",
      "Quantidade de valores no array: 2\n",
      "[[1 2 3]]\n"
     ]
    }
   ],
   "source": [
    "d2 = d[np.newaxis, :] # Adiciona valores para o array\n",
    "print('Dimensões do array:',d2.shape)\n",
    "print('Quantidade de valores no array:',d2.ndim)\n",
    "print(d2)"
   ]
  },
  {
   "cell_type": "code",
   "execution_count": 63,
   "id": "f78eed7e-fcff-49f3-b438-6433e1dcaef6",
   "metadata": {},
   "outputs": [
    {
     "name": "stdout",
     "output_type": "stream",
     "text": [
      "Dimensões do array: (3, 1)\n",
      "Quantidade de valores no array: 2\n",
      "[[1]\n",
      " [2]\n",
      " [3]]\n"
     ]
    }
   ],
   "source": [
    "d3 = d[:,np.newaxis] # Adiciona valores para o array\n",
    "print('Dimensões do array:',d3.shape)\n",
    "print('Quantidade de valores no array:',d3.ndim)\n",
    "print(d3)"
   ]
  },
  {
   "cell_type": "code",
   "execution_count": 69,
   "id": "7fd3e262-09c7-4f1d-a7e5-92c60a4a53ae",
   "metadata": {},
   "outputs": [
    {
     "data": {
      "text/plain": [
       "2"
      ]
     },
     "execution_count": 69,
     "metadata": {},
     "output_type": "execute_result"
    }
   ],
   "source": [
    "(d3[1][0])"
   ]
  },
  {
   "cell_type": "code",
   "execution_count": 76,
   "id": "e05195cc-3fe5-45bc-ad56-5019a731dcfd",
   "metadata": {},
   "outputs": [
    {
     "name": "stdout",
     "output_type": "stream",
     "text": [
      "[1 2 3 4 5 6]\n",
      "[4 5 6 1 2 3]\n"
     ]
    }
   ],
   "source": [
    "# Unindo arrays\n",
    "s1 = np.array([1, 2, 3])\n",
    "s2 = np.array([4, 5, 6])\n",
    "\n",
    "concat1 = np.concatenate((s1, s2))\n",
    "concat2 = np.concatenate((s2, s1))\n",
    "\n",
    "print(concat1)\n",
    "print(concat2)"
   ]
  },
  {
   "cell_type": "code",
   "execution_count": 81,
   "id": "eb16f8c5-1489-4b84-84b8-7213fb8461e1",
   "metadata": {},
   "outputs": [
    {
     "name": "stdout",
     "output_type": "stream",
     "text": [
      "[[ 1  2  3  4]\n",
      " [ 5  6  7  8]\n",
      " [ 9 10 11 12]]\n",
      "--------------------\n",
      "[ 7  8  9 10 11 12]\n"
     ]
    }
   ],
   "source": [
    "# Consultando arrays\n",
    "c = np.array([[1, 2, 3, 4], [5, 6, 7, 8], [9, 10, 11, 12]])\n",
    "print(c)\n",
    "\n",
    "maior = c[c>6]\n",
    "print('-' * 20)\n",
    "print(maior)"
   ]
  },
  {
   "cell_type": "code",
   "execution_count": 82,
   "id": "91f4747c-5bcc-4fd1-b538-b7e261394545",
   "metadata": {},
   "outputs": [],
   "source": [
    "from numpy.random import default_rng "
   ]
  },
  {
   "cell_type": "code",
   "execution_count": 83,
   "id": "62a1d9d1-0a16-4a58-8d24-96e19ea0f8e0",
   "metadata": {},
   "outputs": [
    {
     "name": "stdout",
     "output_type": "stream",
     "text": [
      "[[0 2 0 6]\n",
      " [8 4 2 1]]\n"
     ]
    }
   ],
   "source": [
    "rng = default_rng()\n",
    "aleatorio = rng.integers(10, size=(2,4))\n",
    "print(aleatorio)"
   ]
  },
  {
   "cell_type": "markdown",
   "id": "05cc9432-354c-40ad-8a95-3a884ad868b7",
   "metadata": {},
   "source": [
    "### Diferença de arrays e listas"
   ]
  },
  {
   "cell_type": "code",
   "execution_count": 93,
   "id": "ae15d0a0-8bb5-40a9-9792-68a3090aebcf",
   "metadata": {},
   "outputs": [
    {
     "name": "stdout",
     "output_type": "stream",
     "text": [
      "['Array' '1' '2' '3' '4' '5' '7' '8']\n",
      "<class 'numpy.ndarray'>\n",
      "--------------------------------------\n",
      "['Lista', 1, 2, 3, 4, 5, 6, 7, 8]\n",
      "<class 'list'>\n"
     ]
    }
   ],
   "source": [
    "a = np.array(['Array', 1, 2, 3, 4, 5, 7, 8])\n",
    "print(a)\n",
    "print(type(a))\n",
    "print('-' * 38)\n",
    "lista = ['Lista', 1, 2, 3, 4, 5, 6, 7, 8]\n",
    "print(lista)\n",
    "print(type(lista))"
   ]
  },
  {
   "cell_type": "markdown",
   "id": "88803c36-d1e5-424b-a811-34815b0edd08",
   "metadata": {},
   "source": [
    "### Comparando o processamento:"
   ]
  },
  {
   "cell_type": "code",
   "execution_count": 99,
   "id": "9a30610b-440f-4b49-8800-3fd35ace65bb",
   "metadata": {},
   "outputs": [
    {
     "name": "stdout",
     "output_type": "stream",
     "text": [
      "3.265625\n"
     ]
    }
   ],
   "source": [
    "c = []\n",
    "\n",
    "t1 = process_time()\n",
    "for i in range(len(lista_a)):\n",
    "    c.append(lista_a[i] * lista_b[i])\n",
    "\n",
    "t2 = process_time()\n",
    "print(t2-t1)"
   ]
  },
  {
   "cell_type": "code",
   "execution_count": 103,
   "id": "97bb30ba-3c51-42a5-a806-17bdfb668aca",
   "metadata": {},
   "outputs": [
    {
     "name": "stdout",
     "output_type": "stream",
     "text": [
      "0.046875\n"
     ]
    }
   ],
   "source": [
    "from time import process_time\n",
    "a = rng.integers(10, 100, 10000000)\n",
    "b = rng.integers(10, 100, 10000000)\n",
    "\n",
    "t2a = process_time()\n",
    "c = a*b\n",
    "t2b = process_time()\n",
    "print(t2b - t2a)"
   ]
  },
  {
   "cell_type": "code",
   "execution_count": 104,
   "id": "0ea57e23-6553-4888-9e53-9b618ce3a22d",
   "metadata": {},
   "outputs": [
    {
     "data": {
      "image/png": "[encoded data removed]",
      "text/plain": [
       "<Figure size 640x480 with 1 Axes>"
      ]
     },
     "metadata": {},
     "output_type": "display_data"
    }
   ],
   "source": [
    "import matplotlib.pyplot as plt\n",
    "\n",
    "dados_x = rng.integers(20, size=30)\n",
    "dados_y = rng.integers(12, size=30)\n",
    "\n",
    "plt.scatter(x = dados_x, y = dados_y)\n",
    "plt.show()"
   ]
  },
  {
   "cell_type": "code",
   "execution_count": null,
   "id": "ebc5d71b-8b09-47e6-a4d9-851e43ce59f8",
   "metadata": {},
   "outputs": [],
   "source": []
  },
  {
   "cell_type": "code",
   "execution_count": null,
   "id": "d159cb1b-ea65-41d1-8885-8df4ef795ae2",
   "metadata": {},
   "outputs": [],
   "source": []
  },
  {
   "cell_type": "code",
   "execution_count": null,
   "id": "90c626dd-db79-4f1f-be88-d45ed6a6a1cb",
   "metadata": {},
   "outputs": [],
   "source": []
  }
 ],
 "metadata": {
  "kernelspec": {
   "display_name": "Python 3 (ipykernel)",
   "language": "python",
   "name": "python3"
  },
  "language_info": {
   "codemirror_mode": {
    "name": "ipython",
    "version": 3
   },
   "file_extension": ".py",
   "mimetype": "text/x-python",
   "name": "python",
   "nbconvert_exporter": "python",
   "pygments_lexer": "ipython3",
   "version": "3.12.0"
  }
 },
 "nbformat": 4,
 "nbformat_minor": 5
}
