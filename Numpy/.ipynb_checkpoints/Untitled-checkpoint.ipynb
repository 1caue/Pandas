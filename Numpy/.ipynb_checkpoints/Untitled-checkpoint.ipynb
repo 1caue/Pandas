{
 "cells": [
  {
   "cell_type": "markdown",
   "id": "35c5bbc9-27d3-40de-96ca-1a4c82c12bb3",
   "metadata": {},
   "source": [
    "# Numpy "
   ]
  },
  {
   "cell_type": "code",
   "execution_count": 2,
   "id": "4287dd3f-8523-4521-8f57-e53a79658983",
   "metadata": {},
   "outputs": [],
   "source": [
    "import numpy as np"
   ]
  },
  {
   "cell_type": "markdown",
   "id": "0401ed7b-70fd-479b-9cd2-8631f4f89716",
   "metadata": {},
   "source": [
    "# Criar "
   ]
  },
  {
   "cell_type": "code",
   "execution_count": 5,
   "id": "46832424-41fe-415a-a84d-6872a53708a9",
   "metadata": {},
   "outputs": [],
   "source": [
    "data = np.random.rand(2, 3, 4)\n",
    "zeros = np.zeros((2, 2, 2))\n",
    "full = np.full((2, 2, 2), 7)\n",
    "ones = np.ones((2, 2, 2))"
   ]
  },
  {
   "cell_type": "code",
   "execution_count": 6,
   "id": "8933146b-eb90-41d7-a001-e4606fe5cb8c",
   "metadata": {},
   "outputs": [
    {
     "data": {
      "text/plain": [
       "array([[[0.42613687, 0.18967571, 0.00663199, 0.55849048],\n",
       "        [0.42105195, 0.79018632, 0.17617185, 0.01315724],\n",
       "        [0.42521018, 0.51859021, 0.74307119, 0.94445752]],\n",
       "\n",
       "       [[0.24177626, 0.08114132, 0.53312625, 0.60089846],\n",
       "        [0.77696617, 0.36675929, 0.24819329, 0.14602575],\n",
       "        [0.38551041, 0.58244683, 0.62412351, 0.08434029]]])"
      ]
     },
     "execution_count": 6,
     "metadata": {},
     "output_type": "execute_result"
    }
   ],
   "source": [
    "data"
   ]
  },
  {
   "cell_type": "code",
   "execution_count": 10,
   "id": "73523268-2a78-4df2-98ca-27810c73b241",
   "metadata": {},
   "outputs": [
    {
     "data": {
      "text/plain": [
       "array([[[1., 1.],\n",
       "        [1., 1.]],\n",
       "\n",
       "       [[1., 1.],\n",
       "        [1., 1.]]])"
      ]
     },
     "execution_count": 10,
     "metadata": {},
     "output_type": "execute_result"
    }
   ],
   "source": [
    "ones"
   ]
  },
  {
   "cell_type": "code",
   "execution_count": 11,
   "id": "87911c1f-626f-4b77-9f1c-2bbe745201cc",
   "metadata": {},
   "outputs": [],
   "source": [
    "arr = np.array([[1, 2, 3, 4], [1, 2, 3, 4]])"
   ]
  },
  {
   "cell_type": "code",
   "execution_count": 13,
   "id": "88cbc1c1-687b-475d-8fd8-3d592fe05324",
   "metadata": {},
   "outputs": [
    {
     "data": {
      "text/plain": [
       "numpy.ndarray"
      ]
     },
     "execution_count": 13,
     "metadata": {},
     "output_type": "execute_result"
    }
   ],
   "source": [
    "type(arr)"
   ]
  },
  {
   "cell_type": "markdown",
   "id": "5bd3d6fd-181a-42f6-8df5-3af6294d6650",
   "metadata": {},
   "source": [
    "# Ler"
   ]
  },
  {
   "cell_type": "code",
   "execution_count": 14,
   "id": "e66d9e6e-986e-4392-bdfe-9f8d321482cd",
   "metadata": {},
   "outputs": [],
   "source": [
    "# Attribute\n",
    "shape = data.shape\n",
    "size = data.size\n",
    "types = data.dtype"
   ]
  },
  {
   "cell_type": "code",
   "execution_count": 17,
   "id": "cac1414d-c668-4168-8c74-b5966e3ee814",
   "metadata": {},
   "outputs": [
    {
     "data": {
      "text/plain": [
       "type"
      ]
     },
     "execution_count": 17,
     "metadata": {},
     "output_type": "execute_result"
    }
   ],
   "source": [
    "type"
   ]
  },
  {
   "cell_type": "code",
   "execution_count": 37,
   "id": "698e8506-998d-4209-adb0-e3aeae6b736b",
   "metadata": {},
   "outputs": [],
   "source": [
    "# Slicing\n",
    "arr = data[0]\n",
    "slicer = data[0][0:2]\n",
    "reverse = data[-1]\n",
    "singleval = data[1][0][1]"
   ]
  },
  {
   "cell_type": "code",
   "execution_count": 39,
   "id": "ce5614e1-896c-4966-8cf5-590b3e5d29b6",
   "metadata": {},
   "outputs": [
    {
     "data": {
      "text/plain": [
       "0.08114132118389783"
      ]
     },
     "execution_count": 39,
     "metadata": {},
     "output_type": "execute_result"
    }
   ],
   "source": [
    "singleval"
   ]
  },
  {
   "cell_type": "code",
   "execution_count": 28,
   "id": "06aafe7d-c038-46a7-bc5f-f850638091be",
   "metadata": {},
   "outputs": [
    {
     "data": {
      "text/plain": [
       "array([[[0.42613687, 0.18967571, 0.00663199, 0.55849048],\n",
       "        [0.42105195, 0.79018632, 0.17617185, 0.01315724],\n",
       "        [0.42521018, 0.51859021, 0.74307119, 0.94445752]],\n",
       "\n",
       "       [[0.24177626, 0.08114132, 0.53312625, 0.60089846],\n",
       "        [0.77696617, 0.36675929, 0.24819329, 0.14602575],\n",
       "        [0.38551041, 0.58244683, 0.62412351, 0.08434029]]])"
      ]
     },
     "execution_count": 28,
     "metadata": {},
     "output_type": "execute_result"
    }
   ],
   "source": [
    "data"
   ]
  },
  {
   "cell_type": "markdown",
   "id": "d7674cf7-a46c-49c8-9c89-fbf83c81806e",
   "metadata": {},
   "source": [
    "# Atualizar "
   ]
  },
  {
   "cell_type": "code",
   "execution_count": 41,
   "id": "00cbd22a-0e92-4479-9bee-aaf3c1dccc65",
   "metadata": {},
   "outputs": [],
   "source": [
    "list1 = np.random.rand(10)\n",
    "list2 = np.random.rand(10)"
   ]
  },
  {
   "cell_type": "code",
   "execution_count": 42,
   "id": "3aa71def-edb8-42a1-a4ee-65128af12efe",
   "metadata": {},
   "outputs": [
    {
     "data": {
      "text/plain": [
       "array([0.91802485, 0.1145303 , 0.18049762, 0.43132453, 0.17014724,\n",
       "       0.58933735, 0.09792924, 0.74619191, 0.5699463 , 0.1424888 ])"
      ]
     },
     "execution_count": 42,
     "metadata": {},
     "output_type": "execute_result"
    }
   ],
   "source": [
    "list1"
   ]
  },
  {
   "cell_type": "code",
   "execution_count": 44,
   "id": "1e895ad3-9ede-4b7c-85e3-cf7156652cab",
   "metadata": {},
   "outputs": [],
   "source": [
    "# Base de criação \n",
    "add = np.add(list1, list2)\n",
    "sub = np.subtract(list1, list2)\n",
    "div = np.divide(list1, list2)\n",
    "mult = np.multiply(list1, list2)\n",
    "dot = np.dot(list1, list2)"
   ]
  },
  {
   "cell_type": "code",
   "execution_count": 48,
   "id": "643e76bc-9928-4ee3-aa7b-7c504641a5b3",
   "metadata": {},
   "outputs": [
    {
     "data": {
      "text/plain": [
       "2.035755378478524"
      ]
     },
     "execution_count": 48,
     "metadata": {},
     "output_type": "execute_result"
    }
   ],
   "source": [
    "dot"
   ]
  },
  {
   "cell_type": "code",
   "execution_count": 49,
   "id": "a200d494-0e12-4706-a94e-c6a7729e53a4",
   "metadata": {},
   "outputs": [],
   "source": [
    "# Funções iniciais \n",
    "sqrt = np.sqrt(25)\n",
    "ab = np.abs(-2)\n",
    "power = np.power(2, 7)\n",
    "log = np.log(25)\n",
    "exp = ([2, 3])\n",
    "mins = np.min(list1)\n",
    "maxs = np.max(list1)"
   ]
  },
  {
   "cell_type": "code",
   "execution_count": 59,
   "id": "d3649736-f6af-4585-8f00-595474ac85ad",
   "metadata": {},
   "outputs": [
    {
     "data": {
      "text/plain": [
       "0.9180248501621866"
      ]
     },
     "execution_count": 59,
     "metadata": {},
     "output_type": "execute_result"
    }
   ],
   "source": [
    "maxs"
   ]
  },
  {
   "cell_type": "code",
   "execution_count": 60,
   "id": "69e60c12-d0dc-4fd5-a9d4-9360096179c3",
   "metadata": {},
   "outputs": [
    {
     "data": {
      "text/plain": [
       "array([[[0.42613687, 0.18967571, 0.00663199, 0.55849048],\n",
       "        [0.42105195, 0.79018632, 0.17617185, 0.01315724],\n",
       "        [0.42521018, 0.51859021, 0.74307119, 0.94445752]],\n",
       "\n",
       "       [[0.24177626, 0.08114132, 0.53312625, 0.60089846],\n",
       "        [0.77696617, 0.36675929, 0.24819329, 0.14602575],\n",
       "        [0.38551041, 0.58244683, 0.62412351, 0.08434029]]])"
      ]
     },
     "execution_count": 60,
     "metadata": {},
     "output_type": "execute_result"
    }
   ],
   "source": [
    "data"
   ]
  },
  {
   "cell_type": "code",
   "execution_count": 61,
   "id": "ce99f78b-5fbb-467a-a2fc-d8de8297b2ae",
   "metadata": {},
   "outputs": [],
   "source": [
    "data[0][0][0] = 700"
   ]
  },
  {
   "cell_type": "code",
   "execution_count": 62,
   "id": "5dcf370e-b7a1-4c0e-ab1c-b5a7d3bf3af7",
   "metadata": {},
   "outputs": [
    {
     "data": {
      "text/plain": [
       "array([[[7.00000000e+02, 1.89675711e-01, 6.63198651e-03, 5.58490478e-01],\n",
       "        [4.21051946e-01, 7.90186324e-01, 1.76171848e-01, 1.31572363e-02],\n",
       "        [4.25210181e-01, 5.18590214e-01, 7.43071191e-01, 9.44457517e-01]],\n",
       "\n",
       "       [[2.41776256e-01, 8.11413212e-02, 5.33126252e-01, 6.00898455e-01],\n",
       "        [7.76966168e-01, 3.66759289e-01, 2.48193294e-01, 1.46025754e-01],\n",
       "        [3.85510409e-01, 5.82446833e-01, 6.24123515e-01, 8.43402938e-02]]])"
      ]
     },
     "execution_count": 62,
     "metadata": {},
     "output_type": "execute_result"
    }
   ],
   "source": [
    "data"
   ]
  },
  {
   "cell_type": "code",
   "execution_count": 63,
   "id": "289e59b5-3b02-4f51-b48b-ca8241101e74",
   "metadata": {},
   "outputs": [
    {
     "data": {
      "text/plain": [
       "array([[[6.63198651e-03, 1.89675711e-01, 5.58490478e-01, 7.00000000e+02],\n",
       "        [1.31572363e-02, 1.76171848e-01, 4.21051946e-01, 7.90186324e-01],\n",
       "        [4.25210181e-01, 5.18590214e-01, 7.43071191e-01, 9.44457517e-01]],\n",
       "\n",
       "       [[8.11413212e-02, 2.41776256e-01, 5.33126252e-01, 6.00898455e-01],\n",
       "        [1.46025754e-01, 2.48193294e-01, 3.66759289e-01, 7.76966168e-01],\n",
       "        [8.43402938e-02, 3.85510409e-01, 5.82446833e-01, 6.24123515e-01]]])"
      ]
     },
     "execution_count": 63,
     "metadata": {},
     "output_type": "execute_result"
    }
   ],
   "source": [
    "data.sort()\n",
    "data"
   ]
  },
  {
   "cell_type": "code",
   "execution_count": 64,
   "id": "df49ef18-afd1-4c8a-a578-f596ec67cb14",
   "metadata": {},
   "outputs": [
    {
     "name": "stdout",
     "output_type": "stream",
     "text": [
      "(2, 3, 4)\n"
     ]
    }
   ],
   "source": [
    "print(data.shape)"
   ]
  },
  {
   "cell_type": "code",
   "execution_count": 65,
   "id": "c3e70c1e-829f-4b82-afc3-9be40fb9460f",
   "metadata": {},
   "outputs": [
    {
     "data": {
      "text/plain": [
       "(2, 2, 6)"
      ]
     },
     "execution_count": 65,
     "metadata": {},
     "output_type": "execute_result"
    }
   ],
   "source": [
    "data = data.reshape((2, 2, -1))\n",
    "data.shape"
   ]
  },
  {
   "cell_type": "code",
   "execution_count": 67,
   "id": "88c9cf74-42a3-4004-9e01-490b1ae08775",
   "metadata": {},
   "outputs": [
    {
     "name": "stdout",
     "output_type": "stream",
     "text": [
      "[0. 0. 0. 0. 0. 0. 0. 0.]\n",
      "[0. 0. 0. 0. 0. 0. 0. 0. 3. 4.]\n"
     ]
    }
   ],
   "source": [
    "zeroes = np.zeros((8))\n",
    "print(zeroes)\n",
    "zeroes = np.append(zeroes, [3, 4])\n",
    "print(zeroes)"
   ]
  },
  {
   "cell_type": "code",
   "execution_count": 68,
   "id": "9dd277e9-82ae-4e78-9311-c7bef0b5cf91",
   "metadata": {},
   "outputs": [
    {
     "name": "stdout",
     "output_type": "stream",
     "text": [
      "[0. 0. 1. 0. 0. 0. 0. 0. 0. 3. 4.]\n"
     ]
    }
   ],
   "source": [
    "zeroes = np.insert(zeroes, 2, 1)\n",
    "print(zeroes)"
   ]
  },
  {
   "cell_type": "markdown",
   "id": "3a1482bf-e35c-4172-8a39-bf27db051d5d",
   "metadata": {},
   "source": [
    "# Deletar"
   ]
  },
  {
   "cell_type": "code",
   "execution_count": 69,
   "id": "81477a65-14e5-4305-b23c-67fb0b1f7a7e",
   "metadata": {},
   "outputs": [
    {
     "data": {
      "text/plain": [
       "array([[[6.63198651e-03, 1.89675711e-01, 5.58490478e-01, 7.00000000e+02,\n",
       "         1.31572363e-02, 1.76171848e-01],\n",
       "        [4.21051946e-01, 7.90186324e-01, 4.25210181e-01, 5.18590214e-01,\n",
       "         7.43071191e-01, 9.44457517e-01]],\n",
       "\n",
       "       [[8.11413212e-02, 2.41776256e-01, 5.33126252e-01, 6.00898455e-01,\n",
       "         1.46025754e-01, 2.48193294e-01],\n",
       "        [3.66759289e-01, 7.76966168e-01, 8.43402938e-02, 3.85510409e-01,\n",
       "         5.82446833e-01, 6.24123515e-01]]])"
      ]
     },
     "execution_count": 69,
     "metadata": {},
     "output_type": "execute_result"
    }
   ],
   "source": [
    "data"
   ]
  },
  {
   "cell_type": "code",
   "execution_count": 72,
   "id": "b9aee94e-8259-46fb-9ea5-3cdafc83b64a",
   "metadata": {},
   "outputs": [
    {
     "data": {
      "text/plain": [
       "array([[[0.42105195, 0.79018632, 0.42521018, 0.51859021, 0.74307119,\n",
       "         0.94445752]],\n",
       "\n",
       "       [[0.36675929, 0.77696617, 0.08434029, 0.38551041, 0.58244683,\n",
       "         0.62412351]]])"
      ]
     },
     "execution_count": 72,
     "metadata": {},
     "output_type": "execute_result"
    }
   ],
   "source": [
    "np.delete(data, 0, axis=1)"
   ]
  },
  {
   "cell_type": "code",
   "execution_count": 75,
   "id": "559391f6-66a4-43f1-9247-ccf6c3ff66ac",
   "metadata": {},
   "outputs": [],
   "source": [
    "np.save(\"new array\", data) # Salvando array"
   ]
  },
  {
   "cell_type": "code",
   "execution_count": 80,
   "id": "1fa03297-3f0d-4deb-a74e-104a37297908",
   "metadata": {},
   "outputs": [],
   "source": [
    "test = np.load(\"new array.npy\")"
   ]
  },
  {
   "cell_type": "code",
   "execution_count": 81,
   "id": "d9d3e444-2ed1-41b9-aaa7-f9eb71860f3b",
   "metadata": {},
   "outputs": [
    {
     "data": {
      "text/plain": [
       "array([[[6.63198651e-03, 1.89675711e-01, 5.58490478e-01, 7.00000000e+02,\n",
       "         1.31572363e-02, 1.76171848e-01],\n",
       "        [4.21051946e-01, 7.90186324e-01, 4.25210181e-01, 5.18590214e-01,\n",
       "         7.43071191e-01, 9.44457517e-01]],\n",
       "\n",
       "       [[8.11413212e-02, 2.41776256e-01, 5.33126252e-01, 6.00898455e-01,\n",
       "         1.46025754e-01, 2.48193294e-01],\n",
       "        [3.66759289e-01, 7.76966168e-01, 8.43402938e-02, 3.85510409e-01,\n",
       "         5.82446833e-01, 6.24123515e-01]]])"
      ]
     },
     "execution_count": 81,
     "metadata": {},
     "output_type": "execute_result"
    }
   ],
   "source": [
    "test"
   ]
  },
  {
   "cell_type": "code",
   "execution_count": 105,
   "id": "7db71f25-a1fa-407e-9e54-6f2f055ddb0e",
   "metadata": {},
   "outputs": [
    {
     "name": "stdout",
     "output_type": "stream",
     "text": [
      "1\n",
      "int16\n"
     ]
    }
   ],
   "source": [
    "# Criando novo array\n",
    "numbers = np.array([2, 4, 5, 2, 9, 1, 3, 1, 6, 1], np.int16)\n",
    "\n",
    "print(numbers[-1])\n",
    "print(numbers.dtype)"
   ]
  },
  {
   "cell_type": "code",
   "execution_count": 106,
   "id": "dcd63733-0b6d-4eb2-a6b5-f7bf061a2999",
   "metadata": {},
   "outputs": [
    {
     "name": "stdout",
     "output_type": "stream",
     "text": [
      "[2 4 5 7 9 1 3 1 6 1]\n"
     ]
    }
   ],
   "source": [
    "numbers[3] = 7\n",
    "print(numbers)"
   ]
  },
  {
   "cell_type": "code",
   "execution_count": 107,
   "id": "1775d150-4775-4b91-98af-20cd789f74e1",
   "metadata": {},
   "outputs": [
    {
     "name": "stdout",
     "output_type": "stream",
     "text": [
      "[[1 3 5]\n",
      " [6 3 1]\n",
      " [3 5 7]]\n"
     ]
    }
   ],
   "source": [
    "# array bidimiensional\n",
    "\n",
    "bid = np.array([[1, 3, 5], [6, 3, 1], [3, 5, 7]])\n",
    "print(bid)"
   ]
  },
  {
   "cell_type": "code",
   "execution_count": 108,
   "id": "906b1162-34d8-4a6d-b4f7-6bb0eff5ff33",
   "metadata": {},
   "outputs": [
    {
     "name": "stdout",
     "output_type": "stream",
     "text": [
      "1\n"
     ]
    }
   ],
   "source": [
    "print(bid[1, 2])"
   ]
  },
  {
   "cell_type": "code",
   "execution_count": 109,
   "id": "5ebba706-c46c-4cea-b561-d4e554c390bf",
   "metadata": {},
   "outputs": [
    {
     "name": "stdout",
     "output_type": "stream",
     "text": [
      "8\n"
     ]
    }
   ],
   "source": [
    "bid[0, 1] = 8\n",
    "print(bid[0, 1])"
   ]
  },
  {
   "cell_type": "code",
   "execution_count": 110,
   "id": "c641d4aa-5b50-47ed-ac67-4213ba0cf239",
   "metadata": {},
   "outputs": [
    {
     "name": "stdout",
     "output_type": "stream",
     "text": [
      "[[1 8 5]\n",
      " [6 3 1]\n",
      " [3 5 7]]\n"
     ]
    }
   ],
   "source": [
    "print(bid)"
   ]
  },
  {
   "cell_type": "code",
   "execution_count": 111,
   "id": "3bbd5d72-d9e4-42c2-a259-4a7a1dde920d",
   "metadata": {},
   "outputs": [
    {
     "name": "stdout",
     "output_type": "stream",
     "text": [
      "Primeira Coluna:  [1 6 3]\n",
      "Segunda Coluna:  [8 3 5]\n",
      "Terceira Coluna:  [5 1 7]\n"
     ]
    }
   ],
   "source": [
    "# Visualizar coluna inteira\n",
    "print('Primeira Coluna: ', bid[:,0])\n",
    "print('Segunda Coluna: ', bid[:,1])\n",
    "print('Terceira Coluna: ', bid[:,2])"
   ]
  },
  {
   "cell_type": "code",
   "execution_count": 112,
   "id": "a487294b-2c09-4a07-87ce-637ddda9cfbb",
   "metadata": {},
   "outputs": [
    {
     "name": "stdout",
     "output_type": "stream",
     "text": [
      "Primeira Linha:  [1 8 5]\n",
      "Segunda Linha:  [6 3 1]\n",
      "Terceira Linha:  [3 5 7]\n"
     ]
    }
   ],
   "source": [
    "# Visualizar linha inteira \n",
    "print('Primeira Linha: ', bid[0,:])\n",
    "print('Segunda Linha: ', bid[1,:])\n",
    "print('Terceira Linha: ', bid[2,:])"
   ]
  },
  {
   "cell_type": "code",
   "execution_count": 113,
   "id": "2d4f11ab-d66c-4d76-add5-83606c6fa713",
   "metadata": {},
   "outputs": [
    {
     "name": "stdout",
     "output_type": "stream",
     "text": [
      "1\n",
      "2\n"
     ]
    }
   ],
   "source": [
    "# Número de dimensões de um array:\n",
    "print(numbers.ndim)\n",
    "print(bid.ndim)"
   ]
  },
  {
   "cell_type": "code",
   "execution_count": 116,
   "id": "ccb35161-6bd9-4b89-b2f1-9d6d4b8c3b5d",
   "metadata": {},
   "outputs": [
    {
     "name": "stdout",
     "output_type": "stream",
     "text": [
      "(10,)\n",
      "(3, 3)\n"
     ]
    }
   ],
   "source": [
    "# Tamanho do array\n",
    "print(numbers.shape)\n",
    "print(bid.shape)"
   ]
  },
  {
   "cell_type": "code",
   "execution_count": 117,
   "id": "8f5b8de2-2c67-47be-8209-a872815b6d9f",
   "metadata": {},
   "outputs": [
    {
     "name": "stdout",
     "output_type": "stream",
     "text": [
      "10\n",
      "9\n"
     ]
    }
   ],
   "source": [
    "# Número de elementos de um array\n",
    "print(numbers.size)\n",
    "print(bid.size)"
   ]
  },
  {
   "cell_type": "markdown",
   "id": "40ffddef-4aa5-4578-8a39-222d2aaaacf0",
   "metadata": {},
   "source": [
    "# Array 3D (Tridimensional) [Bloco][Linha][Coluna]"
   ]
  },
  {
   "cell_type": "code",
   "execution_count": 119,
   "id": "74e12baf-d174-4f21-9f9b-6cf3f62879b2",
   "metadata": {},
   "outputs": [
    {
     "name": "stdout",
     "output_type": "stream",
     "text": [
      "Array Tridimensional:\n",
      "  [[[1 4 7]\n",
      "  [3 5 2]]\n",
      "\n",
      " [[5 6 0]\n",
      "  [7 4 1]]\n",
      "\n",
      " [[2 8 8]\n",
      "  [0 3 6]]]\n"
     ]
    }
   ],
   "source": [
    "cubo = np.array([[[1, 4, 7], [3, 5, 2]], [[5, 6, 0], [7, 4, 1]], [[2, 8, 8], [0, 3, 6]]])\n",
    "print('Array Tridimensional:\\n ', cubo)"
   ]
  },
  {
   "cell_type": "code",
   "execution_count": 121,
   "id": "53fe5296-9060-4728-971d-25434c53cbf3",
   "metadata": {},
   "outputs": [
    {
     "name": "stdout",
     "output_type": "stream",
     "text": [
      "\n",
      "Item na posição 0,0,0:  1\n",
      "Item na posição 1,0,0:  5\n",
      "Item na posição 2,0,0:  2\n"
     ]
    }
   ],
   "source": [
    "print('\\nItem na posição 0,0,0: ', cubo[0,0,0])\n",
    "print('Item na posição 1,0,0: ', cubo[1,0,0])\n",
    "print('Item na posição 2,0,0: ', cubo[2,0,0])"
   ]
  },
  {
   "cell_type": "code",
   "execution_count": 122,
   "id": "4bdfc9d1-378d-4c69-b4c3-6e30914073ec",
   "metadata": {},
   "outputs": [
    {
     "name": "stdout",
     "output_type": "stream",
     "text": [
      "Número de dimensões do array cubo:  3\n",
      "Tamanho do array cubo:  (3, 2, 3)\n",
      "Total de Elementos do array cubo:  18\n"
     ]
    }
   ],
   "source": [
    "print('Número de dimensões do array cubo: ', cubo.ndim)\n",
    "\n",
    "print('Tamanho do array cubo: ', cubo.shape)\n",
    "\n",
    "print('Total de Elementos do array cubo: ', cubo.size)"
   ]
  },
  {
   "cell_type": "code",
   "execution_count": 123,
   "id": "684a0157-3d72-4ea3-ae81-3801785b1aa4",
   "metadata": {},
   "outputs": [
    {
     "name": "stdout",
     "output_type": "stream",
     "text": [
      "[[[0 0 0]\n",
      "  [1 1 1]\n",
      "  [2 2 2]]\n",
      "\n",
      " [[4 4 4]\n",
      "  [5 5 5]\n",
      "  [6 6 6]]]\n"
     ]
    }
   ],
   "source": [
    "tri = np.array([ [ [0,0,0],[1,1,1],[2,2,2] ],[ [4,4,4],[5,5,5],[6,6,6] ] ])\n",
    "print(tri)"
   ]
  },
  {
   "cell_type": "code",
   "execution_count": 124,
   "id": "4cee2918-f4b2-45c3-87fb-d62db3a70010",
   "metadata": {},
   "outputs": [
    {
     "name": "stdout",
     "output_type": "stream",
     "text": [
      "Posição (0),(1),(2): (3)\n",
      "Posição (0),(1),(2): (3)\n",
      "Posição (0),(1),(2): (3)\n",
      "Posição (0),(1),(2): (3)\n",
      "Posição (0),(1),(2): (3)\n",
      "Posição (0),(1),(2): (3)\n",
      "Posição (0),(1),(2): (3)\n",
      "Posição (0),(1),(2): (3)\n",
      "Posição (0),(1),(2): (3)\n",
      "Posição (0),(1),(2): (3)\n",
      "Posição (0),(1),(2): (3)\n",
      "Posição (0),(1),(2): (3)\n",
      "Posição (0),(1),(2): (3)\n",
      "Posição (0),(1),(2): (3)\n",
      "Posição (0),(1),(2): (3)\n",
      "Posição (0),(1),(2): (3)\n",
      "Posição (0),(1),(2): (3)\n",
      "Posição (0),(1),(2): (3)\n"
     ]
    }
   ],
   "source": [
    "for i in range(2):\n",
    "    for j in range(3):\n",
    "       for k in range(3):\n",
    "            print('Posição (0),(1),(2): (3)'.format(i,j,k,tri[i][j][k]))"
   ]
  }
 ],
 "metadata": {
  "kernelspec": {
   "display_name": "Python 3 (ipykernel)",
   "language": "python",
   "name": "python3"
  },
  "language_info": {
   "codemirror_mode": {
    "name": "ipython",
    "version": 3
   },
   "file_extension": ".py",
   "mimetype": "text/x-python",
   "name": "python",
   "nbconvert_exporter": "python",
   "pygments_lexer": "ipython3",
   "version": "3.12.0"
  }
 },
 "nbformat": 4,
 "nbformat_minor": 5
}
