{
 "cells": [
  {
   "cell_type": "markdown",
   "id": "35c5bbc9-27d3-40de-96ca-1a4c82c12bb3",
   "metadata": {},
   "source": [
    "# Numpy "
   ]
  },
  {
   "cell_type": "code",
   "execution_count": 124,
   "id": "4287dd3f-8523-4521-8f57-e53a79658983",
   "metadata": {},
   "outputs": [],
   "source": [
    "import numpy as np"
   ]
  },
  {
   "cell_type": "markdown",
   "id": "0401ed7b-70fd-479b-9cd2-8631f4f89716",
   "metadata": {},
   "source": [
    "# Criar "
   ]
  },
  {
   "cell_type": "code",
   "execution_count": 2,
   "id": "46832424-41fe-415a-a84d-6872a53708a9",
   "metadata": {},
   "outputs": [],
   "source": [
    "data = np.random.rand(2, 3, 4)\n",
    "zeros = np.zeros((2, 2, 2))\n",
    "full = np.full((2, 2, 2), 7)\n",
    "ones = np.ones((2, 2, 2))"
   ]
  },
  {
   "cell_type": "code",
   "execution_count": 3,
   "id": "8933146b-eb90-41d7-a001-e4606fe5cb8c",
   "metadata": {},
   "outputs": [
    {
     "data": {
      "text/plain": [
       "array([[[0.69309373, 0.11070922, 0.71838974, 0.07326858],\n",
       "        [0.35317419, 0.39412049, 0.9108736 , 0.01768617],\n",
       "        [0.17735777, 0.65027524, 0.1145849 , 0.96526527]],\n",
       "\n",
       "       [[0.55977416, 0.83592411, 0.00582684, 0.66064346],\n",
       "        [0.2754248 , 0.8853527 , 0.47855919, 0.44106698],\n",
       "        [0.39607755, 0.85605409, 0.43226978, 0.35716488]]])"
      ]
     },
     "execution_count": 3,
     "metadata": {},
     "output_type": "execute_result"
    }
   ],
   "source": [
    "data"
   ]
  },
  {
   "cell_type": "code",
   "execution_count": 4,
   "id": "73523268-2a78-4df2-98ca-27810c73b241",
   "metadata": {},
   "outputs": [
    {
     "data": {
      "text/plain": [
       "array([[[1., 1.],\n",
       "        [1., 1.]],\n",
       "\n",
       "       [[1., 1.],\n",
       "        [1., 1.]]])"
      ]
     },
     "execution_count": 4,
     "metadata": {},
     "output_type": "execute_result"
    }
   ],
   "source": [
    "ones"
   ]
  },
  {
   "cell_type": "code",
   "execution_count": 5,
   "id": "87911c1f-626f-4b77-9f1c-2bbe745201cc",
   "metadata": {},
   "outputs": [],
   "source": [
    "arr = np.array([[1, 2, 3, 4], [1, 2, 3, 4]])"
   ]
  },
  {
   "cell_type": "code",
   "execution_count": 6,
   "id": "88cbc1c1-687b-475d-8fd8-3d592fe05324",
   "metadata": {},
   "outputs": [
    {
     "data": {
      "text/plain": [
       "numpy.ndarray"
      ]
     },
     "execution_count": 6,
     "metadata": {},
     "output_type": "execute_result"
    }
   ],
   "source": [
    "type(arr)"
   ]
  },
  {
   "cell_type": "markdown",
   "id": "5bd3d6fd-181a-42f6-8df5-3af6294d6650",
   "metadata": {},
   "source": [
    "# Ler"
   ]
  },
  {
   "cell_type": "code",
   "execution_count": 7,
   "id": "e66d9e6e-986e-4392-bdfe-9f8d321482cd",
   "metadata": {},
   "outputs": [],
   "source": [
    "# Attribute\n",
    "shape = data.shape\n",
    "size = data.size\n",
    "types = data.dtype"
   ]
  },
  {
   "cell_type": "code",
   "execution_count": 8,
   "id": "cac1414d-c668-4168-8c74-b5966e3ee814",
   "metadata": {},
   "outputs": [
    {
     "data": {
      "text/plain": [
       "type"
      ]
     },
     "execution_count": 8,
     "metadata": {},
     "output_type": "execute_result"
    }
   ],
   "source": [
    "type"
   ]
  },
  {
   "cell_type": "code",
   "execution_count": 9,
   "id": "698e8506-998d-4209-adb0-e3aeae6b736b",
   "metadata": {},
   "outputs": [],
   "source": [
    "# Slicing\n",
    "arr = data[0]\n",
    "slicer = data[0][0:2]\n",
    "reverse = data[-1]\n",
    "singleval = data[1][0][1]"
   ]
  },
  {
   "cell_type": "code",
   "execution_count": 10,
   "id": "ce5614e1-896c-4966-8cf5-590b3e5d29b6",
   "metadata": {},
   "outputs": [
    {
     "data": {
      "text/plain": [
       "0.8359241102816902"
      ]
     },
     "execution_count": 10,
     "metadata": {},
     "output_type": "execute_result"
    }
   ],
   "source": [
    "singleval"
   ]
  },
  {
   "cell_type": "code",
   "execution_count": 11,
   "id": "06aafe7d-c038-46a7-bc5f-f850638091be",
   "metadata": {},
   "outputs": [
    {
     "data": {
      "text/plain": [
       "array([[[0.69309373, 0.11070922, 0.71838974, 0.07326858],\n",
       "        [0.35317419, 0.39412049, 0.9108736 , 0.01768617],\n",
       "        [0.17735777, 0.65027524, 0.1145849 , 0.96526527]],\n",
       "\n",
       "       [[0.55977416, 0.83592411, 0.00582684, 0.66064346],\n",
       "        [0.2754248 , 0.8853527 , 0.47855919, 0.44106698],\n",
       "        [0.39607755, 0.85605409, 0.43226978, 0.35716488]]])"
      ]
     },
     "execution_count": 11,
     "metadata": {},
     "output_type": "execute_result"
    }
   ],
   "source": [
    "data"
   ]
  },
  {
   "cell_type": "markdown",
   "id": "d7674cf7-a46c-49c8-9c89-fbf83c81806e",
   "metadata": {},
   "source": [
    "# Atualizar "
   ]
  },
  {
   "cell_type": "code",
   "execution_count": 12,
   "id": "00cbd22a-0e92-4479-9bee-aaf3c1dccc65",
   "metadata": {},
   "outputs": [],
   "source": [
    "list1 = np.random.rand(10)\n",
    "list2 = np.random.rand(10)"
   ]
  },
  {
   "cell_type": "code",
   "execution_count": 13,
   "id": "3aa71def-edb8-42a1-a4ee-65128af12efe",
   "metadata": {},
   "outputs": [
    {
     "data": {
      "text/plain": [
       "array([0.26321355, 0.82025674, 0.14531696, 0.46176709, 0.59279184,\n",
       "       0.44309941, 0.99618703, 0.1777236 , 0.93231512, 0.95735256])"
      ]
     },
     "execution_count": 13,
     "metadata": {},
     "output_type": "execute_result"
    }
   ],
   "source": [
    "list1"
   ]
  },
  {
   "cell_type": "code",
   "execution_count": 14,
   "id": "1e895ad3-9ede-4b7c-85e3-cf7156652cab",
   "metadata": {},
   "outputs": [],
   "source": [
    "# Base de criação \n",
    "add = np.add(list1, list2)\n",
    "sub = np.subtract(list1, list2)\n",
    "div = np.divide(list1, list2)\n",
    "mult = np.multiply(list1, list2)\n",
    "dot = np.dot(list1, list2)"
   ]
  },
  {
   "cell_type": "code",
   "execution_count": 15,
   "id": "643e76bc-9928-4ee3-aa7b-7c504641a5b3",
   "metadata": {},
   "outputs": [
    {
     "data": {
      "text/plain": [
       "1.8707701830778927"
      ]
     },
     "execution_count": 15,
     "metadata": {},
     "output_type": "execute_result"
    }
   ],
   "source": [
    "dot"
   ]
  },
  {
   "cell_type": "code",
   "execution_count": 16,
   "id": "a200d494-0e12-4706-a94e-c6a7729e53a4",
   "metadata": {},
   "outputs": [],
   "source": [
    "# Funções iniciais \n",
    "sqrt = np.sqrt(25)\n",
    "ab = np.abs(-2)\n",
    "power = np.power(2, 7)\n",
    "log = np.log(25)\n",
    "exp = ([2, 3])\n",
    "mins = np.min(list1)\n",
    "maxs = np.max(list1)"
   ]
  },
  {
   "cell_type": "code",
   "execution_count": 17,
   "id": "d3649736-f6af-4585-8f00-595474ac85ad",
   "metadata": {},
   "outputs": [
    {
     "data": {
      "text/plain": [
       "0.9961870289270524"
      ]
     },
     "execution_count": 17,
     "metadata": {},
     "output_type": "execute_result"
    }
   ],
   "source": [
    "maxs"
   ]
  },
  {
   "cell_type": "code",
   "execution_count": 18,
   "id": "69e60c12-d0dc-4fd5-a9d4-9360096179c3",
   "metadata": {},
   "outputs": [
    {
     "data": {
      "text/plain": [
       "array([[[0.69309373, 0.11070922, 0.71838974, 0.07326858],\n",
       "        [0.35317419, 0.39412049, 0.9108736 , 0.01768617],\n",
       "        [0.17735777, 0.65027524, 0.1145849 , 0.96526527]],\n",
       "\n",
       "       [[0.55977416, 0.83592411, 0.00582684, 0.66064346],\n",
       "        [0.2754248 , 0.8853527 , 0.47855919, 0.44106698],\n",
       "        [0.39607755, 0.85605409, 0.43226978, 0.35716488]]])"
      ]
     },
     "execution_count": 18,
     "metadata": {},
     "output_type": "execute_result"
    }
   ],
   "source": [
    "data"
   ]
  },
  {
   "cell_type": "code",
   "execution_count": 19,
   "id": "ce99f78b-5fbb-467a-a2fc-d8de8297b2ae",
   "metadata": {},
   "outputs": [],
   "source": [
    "data[0][0][0] = 700"
   ]
  },
  {
   "cell_type": "code",
   "execution_count": 20,
   "id": "5dcf370e-b7a1-4c0e-ab1c-b5a7d3bf3af7",
   "metadata": {},
   "outputs": [
    {
     "data": {
      "text/plain": [
       "array([[[7.00000000e+02, 1.10709225e-01, 7.18389741e-01, 7.32685811e-02],\n",
       "        [3.53174194e-01, 3.94120486e-01, 9.10873601e-01, 1.76861685e-02],\n",
       "        [1.77357767e-01, 6.50275236e-01, 1.14584902e-01, 9.65265271e-01]],\n",
       "\n",
       "       [[5.59774161e-01, 8.35924110e-01, 5.82684434e-03, 6.60643456e-01],\n",
       "        [2.75424800e-01, 8.85352701e-01, 4.78559188e-01, 4.41066977e-01],\n",
       "        [3.96077545e-01, 8.56054091e-01, 4.32269782e-01, 3.57164878e-01]]])"
      ]
     },
     "execution_count": 20,
     "metadata": {},
     "output_type": "execute_result"
    }
   ],
   "source": [
    "data"
   ]
  },
  {
   "cell_type": "code",
   "execution_count": 21,
   "id": "289e59b5-3b02-4f51-b48b-ca8241101e74",
   "metadata": {},
   "outputs": [
    {
     "data": {
      "text/plain": [
       "array([[[7.32685811e-02, 1.10709225e-01, 7.18389741e-01, 7.00000000e+02],\n",
       "        [1.76861685e-02, 3.53174194e-01, 3.94120486e-01, 9.10873601e-01],\n",
       "        [1.14584902e-01, 1.77357767e-01, 6.50275236e-01, 9.65265271e-01]],\n",
       "\n",
       "       [[5.82684434e-03, 5.59774161e-01, 6.60643456e-01, 8.35924110e-01],\n",
       "        [2.75424800e-01, 4.41066977e-01, 4.78559188e-01, 8.85352701e-01],\n",
       "        [3.57164878e-01, 3.96077545e-01, 4.32269782e-01, 8.56054091e-01]]])"
      ]
     },
     "execution_count": 21,
     "metadata": {},
     "output_type": "execute_result"
    }
   ],
   "source": [
    "data.sort()\n",
    "data"
   ]
  },
  {
   "cell_type": "code",
   "execution_count": 22,
   "id": "df49ef18-afd1-4c8a-a578-f596ec67cb14",
   "metadata": {},
   "outputs": [
    {
     "name": "stdout",
     "output_type": "stream",
     "text": [
      "(2, 3, 4)\n"
     ]
    }
   ],
   "source": [
    "print(data.shape)"
   ]
  },
  {
   "cell_type": "code",
   "execution_count": 23,
   "id": "c3e70c1e-829f-4b82-afc3-9be40fb9460f",
   "metadata": {},
   "outputs": [
    {
     "data": {
      "text/plain": [
       "(2, 2, 6)"
      ]
     },
     "execution_count": 23,
     "metadata": {},
     "output_type": "execute_result"
    }
   ],
   "source": [
    "data = data.reshape((2, 2, -1))\n",
    "data.shape"
   ]
  },
  {
   "cell_type": "code",
   "execution_count": 24,
   "id": "88c9cf74-42a3-4004-9e01-490b1ae08775",
   "metadata": {},
   "outputs": [
    {
     "name": "stdout",
     "output_type": "stream",
     "text": [
      "[0. 0. 0. 0. 0. 0. 0. 0.]\n",
      "[0. 0. 0. 0. 0. 0. 0. 0. 3. 4.]\n"
     ]
    }
   ],
   "source": [
    "zeroes = np.zeros((8))\n",
    "print(zeroes)\n",
    "zeroes = np.append(zeroes, [3, 4])\n",
    "print(zeroes)"
   ]
  },
  {
   "cell_type": "code",
   "execution_count": 25,
   "id": "9dd277e9-82ae-4e78-9311-c7bef0b5cf91",
   "metadata": {},
   "outputs": [
    {
     "name": "stdout",
     "output_type": "stream",
     "text": [
      "[0. 0. 1. 0. 0. 0. 0. 0. 0. 3. 4.]\n"
     ]
    }
   ],
   "source": [
    "zeroes = np.insert(zeroes, 2, 1)\n",
    "print(zeroes)"
   ]
  },
  {
   "cell_type": "markdown",
   "id": "3a1482bf-e35c-4172-8a39-bf27db051d5d",
   "metadata": {},
   "source": [
    "# Deletar"
   ]
  },
  {
   "cell_type": "code",
   "execution_count": 26,
   "id": "81477a65-14e5-4305-b23c-67fb0b1f7a7e",
   "metadata": {},
   "outputs": [
    {
     "data": {
      "text/plain": [
       "array([[[7.32685811e-02, 1.10709225e-01, 7.18389741e-01, 7.00000000e+02,\n",
       "         1.76861685e-02, 3.53174194e-01],\n",
       "        [3.94120486e-01, 9.10873601e-01, 1.14584902e-01, 1.77357767e-01,\n",
       "         6.50275236e-01, 9.65265271e-01]],\n",
       "\n",
       "       [[5.82684434e-03, 5.59774161e-01, 6.60643456e-01, 8.35924110e-01,\n",
       "         2.75424800e-01, 4.41066977e-01],\n",
       "        [4.78559188e-01, 8.85352701e-01, 3.57164878e-01, 3.96077545e-01,\n",
       "         4.32269782e-01, 8.56054091e-01]]])"
      ]
     },
     "execution_count": 26,
     "metadata": {},
     "output_type": "execute_result"
    }
   ],
   "source": [
    "data"
   ]
  },
  {
   "cell_type": "code",
   "execution_count": 27,
   "id": "b9aee94e-8259-46fb-9ea5-3cdafc83b64a",
   "metadata": {},
   "outputs": [
    {
     "data": {
      "text/plain": [
       "array([[[0.39412049, 0.9108736 , 0.1145849 , 0.17735777, 0.65027524,\n",
       "         0.96526527]],\n",
       "\n",
       "       [[0.47855919, 0.8853527 , 0.35716488, 0.39607755, 0.43226978,\n",
       "         0.85605409]]])"
      ]
     },
     "execution_count": 27,
     "metadata": {},
     "output_type": "execute_result"
    }
   ],
   "source": [
    "np.delete(data, 0, axis=1)"
   ]
  },
  {
   "cell_type": "code",
   "execution_count": 28,
   "id": "559391f6-66a4-43f1-9247-ccf6c3ff66ac",
   "metadata": {},
   "outputs": [],
   "source": [
    "np.save(\"new array\", data) # Salvando array"
   ]
  },
  {
   "cell_type": "code",
   "execution_count": 29,
   "id": "1fa03297-3f0d-4deb-a74e-104a37297908",
   "metadata": {},
   "outputs": [],
   "source": [
    "test = np.load(\"new array.npy\")"
   ]
  },
  {
   "cell_type": "code",
   "execution_count": 30,
   "id": "d9d3e444-2ed1-41b9-aaa7-f9eb71860f3b",
   "metadata": {},
   "outputs": [
    {
     "data": {
      "text/plain": [
       "array([[[7.32685811e-02, 1.10709225e-01, 7.18389741e-01, 7.00000000e+02,\n",
       "         1.76861685e-02, 3.53174194e-01],\n",
       "        [3.94120486e-01, 9.10873601e-01, 1.14584902e-01, 1.77357767e-01,\n",
       "         6.50275236e-01, 9.65265271e-01]],\n",
       "\n",
       "       [[5.82684434e-03, 5.59774161e-01, 6.60643456e-01, 8.35924110e-01,\n",
       "         2.75424800e-01, 4.41066977e-01],\n",
       "        [4.78559188e-01, 8.85352701e-01, 3.57164878e-01, 3.96077545e-01,\n",
       "         4.32269782e-01, 8.56054091e-01]]])"
      ]
     },
     "execution_count": 30,
     "metadata": {},
     "output_type": "execute_result"
    }
   ],
   "source": [
    "test"
   ]
  },
  {
   "cell_type": "code",
   "execution_count": 31,
   "id": "7db71f25-a1fa-407e-9e54-6f2f055ddb0e",
   "metadata": {},
   "outputs": [
    {
     "name": "stdout",
     "output_type": "stream",
     "text": [
      "1\n",
      "int16\n"
     ]
    }
   ],
   "source": [
    "# Criando novo array\n",
    "numbers = np.array([2, 4, 5, 2, 9, 1, 3, 1, 6, 1], np.int16)\n",
    "\n",
    "print(numbers[-1])\n",
    "print(numbers.dtype)"
   ]
  },
  {
   "cell_type": "code",
   "execution_count": 32,
   "id": "dcd63733-0b6d-4eb2-a6b5-f7bf061a2999",
   "metadata": {},
   "outputs": [
    {
     "name": "stdout",
     "output_type": "stream",
     "text": [
      "[2 4 5 7 9 1 3 1 6 1]\n"
     ]
    }
   ],
   "source": [
    "numbers[3] = 7\n",
    "print(numbers)"
   ]
  },
  {
   "cell_type": "code",
   "execution_count": 33,
   "id": "1775d150-4775-4b91-98af-20cd789f74e1",
   "metadata": {},
   "outputs": [
    {
     "name": "stdout",
     "output_type": "stream",
     "text": [
      "[[1 3 5]\n",
      " [6 3 1]\n",
      " [3 5 7]]\n"
     ]
    }
   ],
   "source": [
    "# array bidimiensional\n",
    "\n",
    "bid = np.array([[1, 3, 5], [6, 3, 1], [3, 5, 7]])\n",
    "print(bid)"
   ]
  },
  {
   "cell_type": "code",
   "execution_count": 34,
   "id": "906b1162-34d8-4a6d-b4f7-6bb0eff5ff33",
   "metadata": {},
   "outputs": [
    {
     "name": "stdout",
     "output_type": "stream",
     "text": [
      "1\n"
     ]
    }
   ],
   "source": [
    "print(bid[1, 2])"
   ]
  },
  {
   "cell_type": "code",
   "execution_count": 35,
   "id": "5ebba706-c46c-4cea-b561-d4e554c390bf",
   "metadata": {},
   "outputs": [
    {
     "name": "stdout",
     "output_type": "stream",
     "text": [
      "8\n"
     ]
    }
   ],
   "source": [
    "bid[0, 1] = 8\n",
    "print(bid[0, 1])"
   ]
  },
  {
   "cell_type": "code",
   "execution_count": 36,
   "id": "c641d4aa-5b50-47ed-ac67-4213ba0cf239",
   "metadata": {},
   "outputs": [
    {
     "name": "stdout",
     "output_type": "stream",
     "text": [
      "[[1 8 5]\n",
      " [6 3 1]\n",
      " [3 5 7]]\n"
     ]
    }
   ],
   "source": [
    "print(bid)"
   ]
  },
  {
   "cell_type": "code",
   "execution_count": 37,
   "id": "3bbd5d72-d9e4-42c2-a259-4a7a1dde920d",
   "metadata": {},
   "outputs": [
    {
     "name": "stdout",
     "output_type": "stream",
     "text": [
      "Primeira Coluna:  [1 6 3]\n",
      "Segunda Coluna:  [8 3 5]\n",
      "Terceira Coluna:  [5 1 7]\n"
     ]
    }
   ],
   "source": [
    "# Visualizar coluna inteira\n",
    "print('Primeira Coluna: ', bid[:,0])\n",
    "print('Segunda Coluna: ', bid[:,1])\n",
    "print('Terceira Coluna: ', bid[:,2])"
   ]
  },
  {
   "cell_type": "code",
   "execution_count": 38,
   "id": "a487294b-2c09-4a07-87ce-637ddda9cfbb",
   "metadata": {},
   "outputs": [
    {
     "name": "stdout",
     "output_type": "stream",
     "text": [
      "Primeira Linha:  [1 8 5]\n",
      "Segunda Linha:  [6 3 1]\n",
      "Terceira Linha:  [3 5 7]\n"
     ]
    }
   ],
   "source": [
    "# Visualizar linha inteira \n",
    "print('Primeira Linha: ', bid[0,:])\n",
    "print('Segunda Linha: ', bid[1,:])\n",
    "print('Terceira Linha: ', bid[2,:])"
   ]
  },
  {
   "cell_type": "code",
   "execution_count": 39,
   "id": "2d4f11ab-d66c-4d76-add5-83606c6fa713",
   "metadata": {},
   "outputs": [
    {
     "name": "stdout",
     "output_type": "stream",
     "text": [
      "1\n",
      "2\n"
     ]
    }
   ],
   "source": [
    "# Número de dimensões de um array:\n",
    "print(numbers.ndim)\n",
    "print(bid.ndim)"
   ]
  },
  {
   "cell_type": "code",
   "execution_count": 40,
   "id": "ccb35161-6bd9-4b89-b2f1-9d6d4b8c3b5d",
   "metadata": {},
   "outputs": [
    {
     "name": "stdout",
     "output_type": "stream",
     "text": [
      "(10,)\n",
      "(3, 3)\n"
     ]
    }
   ],
   "source": [
    "# Tamanho do array\n",
    "print(numbers.shape)\n",
    "print(bid.shape)"
   ]
  },
  {
   "cell_type": "code",
   "execution_count": 41,
   "id": "8f5b8de2-2c67-47be-8209-a872815b6d9f",
   "metadata": {},
   "outputs": [
    {
     "name": "stdout",
     "output_type": "stream",
     "text": [
      "10\n",
      "9\n"
     ]
    }
   ],
   "source": [
    "# Número de elementos de um array\n",
    "print(numbers.size)\n",
    "print(bid.size)"
   ]
  },
  {
   "cell_type": "markdown",
   "id": "40ffddef-4aa5-4578-8a39-222d2aaaacf0",
   "metadata": {},
   "source": [
    "# Array 3D (Tridimensional) [Bloco][Linha][Coluna]"
   ]
  },
  {
   "cell_type": "code",
   "execution_count": 42,
   "id": "74e12baf-d174-4f21-9f9b-6cf3f62879b2",
   "metadata": {},
   "outputs": [
    {
     "name": "stdout",
     "output_type": "stream",
     "text": [
      "Array Tridimensional:\n",
      "  [[[1 4 7]\n",
      "  [3 5 2]]\n",
      "\n",
      " [[5 6 0]\n",
      "  [7 4 1]]\n",
      "\n",
      " [[2 8 8]\n",
      "  [0 3 6]]]\n"
     ]
    }
   ],
   "source": [
    "cubo = np.array([[[1, 4, 7], [3, 5, 2]], [[5, 6, 0], [7, 4, 1]], [[2, 8, 8], [0, 3, 6]]])\n",
    "print('Array Tridimensional:\\n ', cubo)"
   ]
  },
  {
   "cell_type": "code",
   "execution_count": 43,
   "id": "53fe5296-9060-4728-971d-25434c53cbf3",
   "metadata": {},
   "outputs": [
    {
     "name": "stdout",
     "output_type": "stream",
     "text": [
      "\n",
      "Item na posição 0,0,0:  1\n",
      "Item na posição 1,0,0:  5\n",
      "Item na posição 2,0,0:  2\n"
     ]
    }
   ],
   "source": [
    "print('\\nItem na posição 0,0,0: ', cubo[0,0,0])\n",
    "print('Item na posição 1,0,0: ', cubo[1,0,0])\n",
    "print('Item na posição 2,0,0: ', cubo[2,0,0])"
   ]
  },
  {
   "cell_type": "code",
   "execution_count": 44,
   "id": "4bdfc9d1-378d-4c69-b4c3-6e30914073ec",
   "metadata": {},
   "outputs": [
    {
     "name": "stdout",
     "output_type": "stream",
     "text": [
      "Número de dimensões do array cubo:  3\n",
      "Tamanho do array cubo:  (3, 2, 3)\n",
      "Total de Elementos do array cubo:  18\n"
     ]
    }
   ],
   "source": [
    "print('Número de dimensões do array cubo: ', cubo.ndim)\n",
    "\n",
    "print('Tamanho do array cubo: ', cubo.shape)\n",
    "\n",
    "print('Total de Elementos do array cubo: ', cubo.size)"
   ]
  },
  {
   "cell_type": "code",
   "execution_count": 45,
   "id": "684a0157-3d72-4ea3-ae81-3801785b1aa4",
   "metadata": {},
   "outputs": [
    {
     "name": "stdout",
     "output_type": "stream",
     "text": [
      "[[[0 0 0]\n",
      "  [1 1 1]\n",
      "  [2 2 2]]\n",
      "\n",
      " [[4 4 4]\n",
      "  [5 5 5]\n",
      "  [6 6 6]]]\n"
     ]
    }
   ],
   "source": [
    "tri = np.array([[[0,0,0],[1,1,1],[2,2,2]] ,[[4,4,4],[5,5,5],[6,6,6]]])\n",
    "print(tri)"
   ]
  },
  {
   "cell_type": "code",
   "execution_count": 46,
   "id": "4cee2918-f4b2-45c3-87fb-d62db3a70010",
   "metadata": {},
   "outputs": [
    {
     "name": "stdout",
     "output_type": "stream",
     "text": [
      "Posição (0),(1),(2): (3)\n",
      "Posição (0),(1),(2): (3)\n",
      "Posição (0),(1),(2): (3)\n",
      "Posição (0),(1),(2): (3)\n",
      "Posição (0),(1),(2): (3)\n",
      "Posição (0),(1),(2): (3)\n",
      "Posição (0),(1),(2): (3)\n",
      "Posição (0),(1),(2): (3)\n",
      "Posição (0),(1),(2): (3)\n",
      "Posição (0),(1),(2): (3)\n",
      "Posição (0),(1),(2): (3)\n",
      "Posição (0),(1),(2): (3)\n",
      "Posição (0),(1),(2): (3)\n",
      "Posição (0),(1),(2): (3)\n",
      "Posição (0),(1),(2): (3)\n",
      "Posição (0),(1),(2): (3)\n",
      "Posição (0),(1),(2): (3)\n",
      "Posição (0),(1),(2): (3)\n"
     ]
    }
   ],
   "source": [
    "for i in range(2):\n",
    "    for j in range(3):\n",
    "       for k in range(3):\n",
    "            print('Posição (0),(1),(2): (3)'.format(i,j,k,tri[i][j][k]))"
   ]
  },
  {
   "cell_type": "markdown",
   "id": "9a71a5ef-c7af-4fc0-a7b4-678a768ac4d0",
   "metadata": {},
   "source": [
    "# Criando Arrays"
   ]
  },
  {
   "cell_type": "code",
   "execution_count": 47,
   "id": "5a0a4224-e832-4439-bec3-3c26b25b030f",
   "metadata": {},
   "outputs": [
    {
     "name": "stdout",
     "output_type": "stream",
     "text": [
      "[  0   2   4   6   8  10  12  14  16  18  20  22  24  26  28  30  32  34\n",
      "  36  38  40  42  44  46  48  50  52  54  56  58  60  62  64  66  68  70\n",
      "  72  74  76  78  80  82  84  86  88  90  92  94  96  98 100]\n"
     ]
    }
   ],
   "source": [
    "pares = np.array([n for n in range(0, 101, 2)])\n",
    "print(pares)"
   ]
  },
  {
   "cell_type": "code",
   "execution_count": 48,
   "id": "d50b5492-75a9-4e95-adee-60b2da51e4a3",
   "metadata": {},
   "outputs": [
    {
     "name": "stdout",
     "output_type": "stream",
     "text": [
      "[0. 0. 0. 0. 0. 0. 0. 0. 0. 0.]\n"
     ]
    }
   ],
   "source": [
    "print(np.zeros(10)) # Criando array com 10 elementos iguais a 0"
   ]
  },
  {
   "cell_type": "code",
   "execution_count": 49,
   "id": "060205d8-1505-4726-b8b9-90347dacbc8a",
   "metadata": {},
   "outputs": [
    {
     "name": "stdout",
     "output_type": "stream",
     "text": [
      "[1. 1. 1. 1. 1. 1. 1. 1. 1. 1. 1. 1. 1. 1. 1.]\n"
     ]
    }
   ],
   "source": [
    "print(np.ones(15)) # Criando array com 15 elementos iguais a 1"
   ]
  },
  {
   "cell_type": "code",
   "execution_count": 50,
   "id": "a861d8a2-5ecc-4516-bf8a-1d2efbbb7a32",
   "metadata": {},
   "outputs": [
    {
     "name": "stdout",
     "output_type": "stream",
     "text": [
      "[12 12 12 12 12 12 12 12]\n"
     ]
    }
   ],
   "source": [
    "print(np.full(8, 12)) # Criando array com 8 elementos iguais a 12, o primeiro elemento significa o número de elementos"
   ]
  },
  {
   "cell_type": "code",
   "execution_count": 51,
   "id": "10cb03f5-4c7b-49ba-b9a7-04b74150c868",
   "metadata": {},
   "outputs": [
    {
     "name": "stdout",
     "output_type": "stream",
     "text": [
      "[0 0 0 0 0 0 0 0 0 0]\n"
     ]
    }
   ],
   "source": [
    "print(np.zeros(10, dtype=int)) # Criando array com 10 elementos iguais a 0, tipo inteiro"
   ]
  },
  {
   "cell_type": "code",
   "execution_count": 52,
   "id": "3a8cd872-fcdd-420f-b4f7-3ed04da8e2b7",
   "metadata": {},
   "outputs": [
    {
     "name": "stdout",
     "output_type": "stream",
     "text": [
      "[1 1 1 1 1 1 1 1 1 1 1 1 1 1 1]\n"
     ]
    }
   ],
   "source": [
    "print(np.ones(15, dtype=int)) # Criando array com 15 elementos iguais a 1, tipo inteiro"
   ]
  },
  {
   "cell_type": "code",
   "execution_count": 53,
   "id": "e2b4f077-646b-44c1-afa9-a1f0a68a2880",
   "metadata": {},
   "outputs": [
    {
     "name": "stdout",
     "output_type": "stream",
     "text": [
      "[12. 12. 12. 12. 12. 12. 12. 12.]\n"
     ]
    }
   ],
   "source": [
    "print(np.full(8, 12, dtype=float)) # Criando array com 8 elementos iguais a 12, tipo float, primeito argumento: núm. de elementos"
   ]
  },
  {
   "cell_type": "code",
   "execution_count": 54,
   "id": "f7c84e1a-c208-4842-a0a9-d79198a153c2",
   "metadata": {},
   "outputs": [
    {
     "name": "stdout",
     "output_type": "stream",
     "text": [
      "[[0 0 0 0 0]\n",
      " [0 0 0 0 0]]\n"
     ]
    }
   ],
   "source": [
    "print(np.zeros((2, 5), dtype=int)) # Criando um array bidimensional 2x5 preenchido com zeros, tipo inteiro"
   ]
  },
  {
   "cell_type": "markdown",
   "id": "66ce6004-5856-4a4e-9826-7b2920323b0e",
   "metadata": {},
   "source": [
    "## Criando array a partir de faixas de valores: métodos arange e linspace"
   ]
  },
  {
   "cell_type": "code",
   "execution_count": 55,
   "id": "e6ef3a24-3160-470e-ae8c-fc2c7df7cf06",
   "metadata": {},
   "outputs": [
    {
     "name": "stdout",
     "output_type": "stream",
     "text": [
      "[0 1 2 3 4 5 6 7 8 9]\n"
     ]
    }
   ],
   "source": [
    "print(np.arange(10)) # Array de 10 elementos, números de 0 a 9"
   ]
  },
  {
   "cell_type": "code",
   "execution_count": 56,
   "id": "2ada29cb-7a62-44c9-84f6-a5eb4043ea3b",
   "metadata": {},
   "outputs": [
    {
     "name": "stdout",
     "output_type": "stream",
     "text": [
      "[0. 1. 2. 3. 4. 5. 6. 7. 8. 9.]\n"
     ]
    }
   ],
   "source": [
    "print(np.arange(10.)) # Array de 10 elementos float, números de 0 a 9"
   ]
  },
  {
   "cell_type": "code",
   "execution_count": 57,
   "id": "53fd89d3-517e-41bc-a662-fbdad0b3d1da",
   "metadata": {},
   "outputs": [
    {
     "name": "stdout",
     "output_type": "stream",
     "text": [
      "[ 5  6  7  8  9 10 11 12 13 14 15]\n"
     ]
    }
   ],
   "source": [
    "print(np.arange(5, 16)) # Array com valores no intervalo de 5 a 15 "
   ]
  },
  {
   "cell_type": "code",
   "execution_count": 58,
   "id": "0fd94d86-25dd-440f-8da9-ca53d1b5f417",
   "metadata": {},
   "outputs": [
    {
     "name": "stdout",
     "output_type": "stream",
     "text": [
      "[50 48 46 44 42 40 38 36 34 32 30 28 26 24 22 20 18 16 14 12 10  8  6  4\n",
      "  2]\n"
     ]
    }
   ],
   "source": [
    "print(np.arange(50, 1, -2)) # Array com os números pares de 50 até 1"
   ]
  },
  {
   "cell_type": "code",
   "execution_count": 59,
   "id": "9bdeeaea-aa69-46f9-bfc0-d7d6ab191487",
   "metadata": {},
   "outputs": [
    {
     "name": "stdout",
     "output_type": "stream",
     "text": [
      "[0.   0.75 1.5  2.25 3.  ]\n"
     ]
    }
   ],
   "source": [
    "# Criando array com valores de ponto flutuante com método linspace\n",
    "print(np.linspace(0.0,3.0,num=5))\n",
    "\n",
    "# Primeiro argumento: Valor inicial, Segundo argumento: Valor final, Terceiro argumento(num): quantidade de itens a gerar "
   ]
  },
  {
   "cell_type": "code",
   "execution_count": 60,
   "id": "50724ed0-cddf-44d0-aa32-52d8e470f158",
   "metadata": {},
   "outputs": [
    {
     "name": "stdout",
     "output_type": "stream",
     "text": [
      "[0.79161821 0.25697137 0.591804   0.42949059 0.33661379 0.39519125\n",
      " 0.123628   0.29655785 0.46820518 0.77411384]\n"
     ]
    }
   ],
   "source": [
    "# Criando Array com valores aleatórios, Array de 10 elementos entre 0 e 1 \n",
    "c = np.random.rand(10)\n",
    "print(c)"
   ]
  },
  {
   "cell_type": "code",
   "execution_count": 61,
   "id": "69a41f5b-64fe-4416-8d2f-103abb086285",
   "metadata": {},
   "outputs": [
    {
     "name": "stdout",
     "output_type": "stream",
     "text": [
      "[[0.65422773 0.30467656 0.19648371]\n",
      " [0.62802354 0.12028069 0.63728172]\n",
      " [0.60244378 0.89345207 0.11093812]]\n"
     ]
    }
   ],
   "source": [
    "# Array bidimensional 3x3 com valores aleatórios \n",
    "a =  np.random.rand(3,3)\n",
    "print(a)"
   ]
  },
  {
   "cell_type": "code",
   "execution_count": 62,
   "id": "ed98464e-29ef-42f4-bc91-87debc86c8d5",
   "metadata": {},
   "outputs": [
    {
     "name": "stdout",
     "output_type": "stream",
     "text": [
      "Número aleatório:  3\n"
     ]
    }
   ],
   "source": [
    "# Gerando número aleatório inteiro entre 0 e 8 com random.randint\n",
    "print('Número aleatório: ', np.random.randint(9))"
   ]
  },
  {
   "cell_type": "code",
   "execution_count": 63,
   "id": "5b1bf88c-ff63-41a4-b702-e6e42d2dd3d6",
   "metadata": {},
   "outputs": [
    {
     "name": "stdout",
     "output_type": "stream",
     "text": [
      "[10 14 12 14 12 17 16 10 14 10]\n"
     ]
    }
   ],
   "source": [
    "# Array unidimensional com 10 números aleatórios inteiros entre 10 e 20\n",
    "b = np.random.randint(10, 21, size=10)\n",
    "print(b)"
   ]
  },
  {
   "cell_type": "code",
   "execution_count": 64,
   "id": "26a086eb-02d8-4a59-8099-fd8bf2ef6829",
   "metadata": {
    "scrolled": true
   },
   "outputs": [
    {
     "name": "stdout",
     "output_type": "stream",
     "text": [
      "[[97 11 23 32 41 26 30 82 66  2]\n",
      " [59 73 97 23  5 23 44 24 20 79]\n",
      " [47 82 29 88 38 53 53 24 91 83]\n",
      " [72 34 85 99 24 81 96 54 21  6]\n",
      " [91  2 51 51 49 75 12 31 87 31]\n",
      " [19 27 76 10 17 53 87 20 65 79]\n",
      " [78 68 28  1 96 77 40 72 59 31]\n",
      " [ 4  2 63 17 69 68 95 37 41 21]\n",
      " [62 56 49 54 72 11 60 45 62  2]\n",
      " [89 21 43 23 72 67 57 40 36 71]]\n"
     ]
    }
   ],
   "source": [
    "# Array bidimensional 4x5 com números aleatórios inteiros entre 1 e 30\n",
    "d = np.random.randint(1, 101, size=(10, 10))\n",
    "print(d)"
   ]
  },
  {
   "cell_type": "code",
   "execution_count": 65,
   "id": "5bc6389b-cf07-4494-b68a-7ec0f8d89c31",
   "metadata": {},
   "outputs": [
    {
     "name": "stdout",
     "output_type": "stream",
     "text": [
      "4\n"
     ]
    }
   ],
   "source": [
    "a = np.array([1, 2, 3, 4, 5, 6, 7, 8, 9, 10])\n",
    "print(a[3])"
   ]
  },
  {
   "cell_type": "code",
   "execution_count": 66,
   "id": "82dd5ae0-f9c6-45e0-8638-5985463d7bca",
   "metadata": {},
   "outputs": [
    {
     "name": "stdout",
     "output_type": "stream",
     "text": [
      "<class 'numpy.ndarray'>\n"
     ]
    }
   ],
   "source": [
    "print(type(a))"
   ]
  },
  {
   "cell_type": "code",
   "execution_count": 67,
   "id": "a7b897f7-40ae-4ab2-934e-dfe3019362d9",
   "metadata": {},
   "outputs": [
    {
     "name": "stdout",
     "output_type": "stream",
     "text": [
      "[[0 1 2]\n",
      " [3 4 5]] Array\n",
      "Tipo da variável: <class 'numpy.ndarray'>\n",
      "Dimensão do array: 2\n",
      "Quantidade de Linhas X Colunas: (2, 3)\n",
      "Quantidade de linhas:  2\n"
     ]
    }
   ],
   "source": [
    "bi = np.array([[0, 1, 2], [3, 4, 5]])\n",
    "print(bi,\"Array\")\n",
    "print(\"Tipo da variável:\", type(bi))\n",
    "print(\"Dimensão do array:\", bi.ndim)\n",
    "print(\"Quantidade de Linhas X Colunas:\", bi.shape)\n",
    "print(\"Quantidade de linhas: \",len(bi))"
   ]
  },
  {
   "cell_type": "code",
   "execution_count": 68,
   "id": "ee5e3485-67af-4bf6-a08e-c02b5511b194",
   "metadata": {},
   "outputs": [
    {
     "name": "stdout",
     "output_type": "stream",
     "text": [
      "[0 1 2 3 4 5 6 7 8 9]\n"
     ]
    }
   ],
   "source": [
    "c = np.arange(10) # A função .arange serve para criar arrays de forma automática\n",
    "print(c)"
   ]
  },
  {
   "cell_type": "code",
   "execution_count": 69,
   "id": "f2f193bb-cfe9-47d3-acfc-6e24047b7f67",
   "metadata": {},
   "outputs": [
    {
     "name": "stdout",
     "output_type": "stream",
     "text": [
      "[1.  2.5 4.  5.5 7.  8.5]\n"
     ]
    }
   ],
   "source": [
    "d = np.linspace(1, 10, 6, endpoint=False) # A função linspace cria uma seqüência de números uniformemente espaçados entre os limites dados, opcionalmente incluindo o valor final \n",
    "print(d)"
   ]
  },
  {
   "cell_type": "code",
   "execution_count": 70,
   "id": "405f6bae-9299-40b8-9225-3a37b0881853",
   "metadata": {},
   "outputs": [
    {
     "name": "stdout",
     "output_type": "stream",
     "text": [
      "[[0. 0. 0. 0. 0.]\n",
      " [0. 0. 0. 0. 0.]\n",
      " [0. 0. 0. 0. 0.]\n",
      " [0. 0. 0. 0. 0.]\n",
      " [0. 0. 0. 0. 0.]]\n"
     ]
    }
   ],
   "source": [
    "# Criando matriz 5x5 com arrays\n",
    "matriz = np.zeros((5, 5))\n",
    "print(matriz)"
   ]
  },
  {
   "cell_type": "code",
   "execution_count": 71,
   "id": "c0886424-3ba9-44dc-954d-a6ed9b14d102",
   "metadata": {},
   "outputs": [
    {
     "name": "stdout",
     "output_type": "stream",
     "text": [
      "[0.8857858  0.64396252 0.43957655 0.91904215 0.67536376 0.06537259\n",
      " 0.42260599 0.71643932 0.6358897  0.66879823]\n"
     ]
    }
   ],
   "source": [
    "f = np.random.rand(10) # Criando array aleatório com 10 valores\n",
    "print(f)"
   ]
  },
  {
   "cell_type": "code",
   "execution_count": 72,
   "id": "e7624cf9-f58d-4247-9346-1f6d394d2ba7",
   "metadata": {},
   "outputs": [
    {
     "name": "stdout",
     "output_type": "stream",
     "text": [
      "[1.  2.5 4.  5.5 7.  8.5]\n"
     ]
    }
   ],
   "source": [
    "e = np.eye(0) # Criando matriz identidade\n",
    "print(d)"
   ]
  },
  {
   "cell_type": "code",
   "execution_count": 73,
   "id": "13fe9495-e6d5-4f05-9599-4832df14d4a5",
   "metadata": {},
   "outputs": [
    {
     "name": "stdout",
     "output_type": "stream",
     "text": [
      "[[1 0 0 0 0 0]\n",
      " [0 2 0 0 0 0]\n",
      " [0 0 3 0 0 0]\n",
      " [0 0 0 4 0 0]\n",
      " [0 0 0 0 5 0]\n",
      " [0 0 0 0 0 6]]\n"
     ]
    }
   ],
   "source": [
    "diag = np.diag(np.array([1, 2, 3, 4, 5, 6])) # Criando matriz na diagonal\n",
    "print(diag)"
   ]
  },
  {
   "cell_type": "code",
   "execution_count": 74,
   "id": "424791df-d5d9-414b-9aec-6bb867722315",
   "metadata": {},
   "outputs": [
    {
     "name": "stdout",
     "output_type": "stream",
     "text": [
      "[10 11 12 13 14 15 16 17 18 19 20]\n"
     ]
    },
    {
     "data": {
      "text/plain": [
       "20"
      ]
     },
     "execution_count": 74,
     "metadata": {},
     "output_type": "execute_result"
    }
   ],
   "source": [
    "range = np.arange(10, 21) # Criando array com valores aleatórios\n",
    "print(range)\n",
    "range[-1] # Utilizando o '-' os valores lidos são inversos "
   ]
  },
  {
   "cell_type": "code",
   "execution_count": 75,
   "id": "ef02c3e8-3f0e-4a67-be3d-4bb97da7fc44",
   "metadata": {},
   "outputs": [
    {
     "name": "stdout",
     "output_type": "stream",
     "text": [
      "[[0.51959268 0.59785734 0.46782128 0.83746622 0.45282305]\n",
      " [0.96436533 0.6314589  0.04425015 0.21656435 0.8671043 ]\n",
      " [0.91021079 0.81839556 0.78377634 0.5070364  0.92415864]\n",
      " [0.39667851 0.54188631 0.00804905 0.09225139 0.6861234 ]\n",
      " [0.1859352  0.86809454 0.77648289 0.93081214 0.38541989]]\n"
     ]
    }
   ],
   "source": [
    "b = np.random.rand(5, 5) # Criando matriz com valores aleatórios \n",
    "\n",
    "print(b)"
   ]
  },
  {
   "cell_type": "code",
   "execution_count": 76,
   "id": "b2bee856-972a-44d5-bf9e-e6595e88d749",
   "metadata": {},
   "outputs": [
    {
     "data": {
      "text/plain": [
       "0.04425014548056916"
      ]
     },
     "execution_count": 76,
     "metadata": {},
     "output_type": "execute_result"
    }
   ],
   "source": [
    "b[1, 2] # Procurando os valores dentro da matriz criada de maneira aleatória"
   ]
  },
  {
   "cell_type": "code",
   "execution_count": 77,
   "id": "be15faa4-ac49-42ff-a41b-9d4970576789",
   "metadata": {},
   "outputs": [
    {
     "name": "stdout",
     "output_type": "stream",
     "text": [
      "0.04425014548056916\n"
     ]
    }
   ],
   "source": [
    "print(b[1][2]) # Procurando os valores dentro da matriz criada de maneira aleatória"
   ]
  },
  {
   "cell_type": "code",
   "execution_count": 78,
   "id": "2bfe6757-f99b-418e-8bad-9a7bd1ea6950",
   "metadata": {},
   "outputs": [
    {
     "name": "stdout",
     "output_type": "stream",
     "text": [
      "[[0.51959268 0.59785734 0.46782128 0.83746622 0.45282305]\n",
      " [0.96436533 0.6314589  0.04425015 0.21656435 0.8671043 ]\n",
      " [0.91021079 0.81839556 0.78377634 0.5070364  0.92415864]\n",
      " [0.39667851 0.54188631 0.00804905 0.09225139 0.6861234 ]\n",
      " [0.1859352  0.86809454 0.77648289 0.93081214 0.38541989]]\n",
      "\n",
      "\n",
      "[0.46782128 0.04425015 0.78377634]\n"
     ]
    }
   ],
   "source": [
    "print(b) # Matriz completa\n",
    "print('\\n')\n",
    "print(b[0:3, 2]) # Valor do array filtrado, Primeiro argumento: Qual coluna o valor está, Segundo argumento: Onde o valor está "
   ]
  },
  {
   "cell_type": "code",
   "execution_count": 79,
   "id": "1c5e66ca-ffcc-4e04-9b94-8f892925df90",
   "metadata": {},
   "outputs": [
    {
     "name": "stdout",
     "output_type": "stream",
     "text": [
      "[10 11 12 13 14 15 16 17 18 19 20]\n"
     ]
    }
   ],
   "source": [
    "slice =  np.arange(10, 21) # Criando array aleatório\n",
    "print(slice)"
   ]
  },
  {
   "cell_type": "code",
   "execution_count": 80,
   "id": "9ab40b12-039a-4b0a-bfcd-46225b15db48",
   "metadata": {},
   "outputs": [
    {
     "name": "stdout",
     "output_type": "stream",
     "text": [
      "[12 13 14 15 16 17 18]\n"
     ]
    }
   ],
   "source": [
    "print(slice[2:9]) # Printando o array de maneira crescente "
   ]
  },
  {
   "cell_type": "code",
   "execution_count": 81,
   "id": "14dabe07-0818-4601-9311-47cd09e7bba0",
   "metadata": {},
   "outputs": [
    {
     "name": "stdout",
     "output_type": "stream",
     "text": [
      "[18 17 16 15 14 13]\n"
     ]
    }
   ],
   "source": [
    "print(slice[8:2:-1]) # Utilizando o '-1' no final do parâmetro ele mostra o array de maneira decrescente"
   ]
  },
  {
   "cell_type": "code",
   "execution_count": 82,
   "id": "fb428272-6ba6-4a78-9c56-746f0fddb731",
   "metadata": {},
   "outputs": [
    {
     "data": {
      "text/plain": [
       "<matplotlib.image.AxesImage at 0x2bf4a137740>"
      ]
     },
     "execution_count": 82,
     "metadata": {},
     "output_type": "execute_result"
    },
    {
     "data": {
      "image/png": "[encoded data removed]",
      "text/plain": [
       "<Figure size 640x480 with 1 Axes>"
      ]
     },
     "metadata": {},
     "output_type": "display_data"
    }
   ],
   "source": [
    "from skimage import io\n",
    "import matplotlib.pyplot as plt\n",
    "\n",
    "img = io.imread(r'C:\\Users\\CAUÊ\\Documents\\Pandas\\Numpy\\array.png') # Carregamento da imagem\n",
    "\n",
    "plt.imshow(img) # Imprimindo imagem utiizando o matplotlib"
   ]
  },
  {
   "cell_type": "code",
   "execution_count": 108,
   "id": "a34e3653-f063-41b3-82d1-0d875dab00bc",
   "metadata": {},
   "outputs": [
    {
     "name": "stdout",
     "output_type": "stream",
     "text": [
      "(441, 287, 4)\n"
     ]
    }
   ],
   "source": [
    "print(img.shape) # Mostrando tamanho da imagem inserida"
   ]
  },
  {
   "cell_type": "code",
   "execution_count": 109,
   "id": "9636c70c-d30f-4a32-80c3-3db13806135f",
   "metadata": {},
   "outputs": [
    {
     "data": {
      "text/plain": [
       "<matplotlib.image.AxesImage at 0x2bf4a19d970>"
      ]
     },
     "execution_count": 109,
     "metadata": {},
     "output_type": "execute_result"
    },
    {
     "data": {
      "image/png": "[encoded data removed]",
      "text/plain": [
       "<Figure size 640x480 with 1 Axes>"
      ]
     },
     "metadata": {},
     "output_type": "display_data"
    }
   ],
   "source": [
    "new_img = img[:, 0:200] # Recortando imagem\n",
    "plt.imshow(new_img)"
   ]
  },
  {
   "cell_type": "markdown",
   "id": "93279674-cbeb-4d3b-86b2-e241f3d71966",
   "metadata": {},
   "source": [
    "## Operações com Arrays Numpy"
   ]
  },
  {
   "cell_type": "code",
   "execution_count": 85,
   "id": "d767bb52-5931-4fa6-bf52-157cfc8e7c69",
   "metadata": {},
   "outputs": [],
   "source": [
    "np.random.seed(32)\n",
    "\n",
    "a1 = np.random.randint(1, 21, 10)"
   ]
  },
  {
   "cell_type": "code",
   "execution_count": 119,
   "id": "46b25ad2-7373-4a55-a600-a1550e22ef07",
   "metadata": {},
   "outputs": [
    {
     "name": "stdout",
     "output_type": "stream",
     "text": [
      "[12  6 20  8  4  6 11 10  5 12] \n",
      "\n"
     ]
    }
   ],
   "source": [
    "print(a1,'\\n')"
   ]
  },
  {
   "cell_type": "code",
   "execution_count": 118,
   "id": "c6340eed-e599-458b-9c23-f556e1cab830",
   "metadata": {},
   "outputs": [
    {
     "data": {
      "text/plain": [
       "array([22, 16, 30, 18, 14, 16, 21, 20, 15, 22])"
      ]
     },
     "execution_count": 118,
     "metadata": {},
     "output_type": "execute_result"
    }
   ],
   "source": [
    "a1+10 # Somando valores"
   ]
  },
  {
   "cell_type": "code",
   "execution_count": 115,
   "id": "815e18d1-6856-48be-a67b-8139f1ed2ad0",
   "metadata": {},
   "outputs": [
    {
     "data": {
      "text/plain": [
       "array([ 2, -4, 10, -2, -6, -4,  1,  0, -5,  2])"
      ]
     },
     "execution_count": 115,
     "metadata": {},
     "output_type": "execute_result"
    }
   ],
   "source": [
    "a1-10 # Subtraindo valores"
   ]
  },
  {
   "cell_type": "code",
   "execution_count": 116,
   "id": "1164a18b-7bf1-42cf-bfda-b303826e7ddf",
   "metadata": {},
   "outputs": [
    {
     "data": {
      "text/plain": [
       "array([120,  60, 200,  80,  40,  60, 110, 100,  50, 120])"
      ]
     },
     "execution_count": 116,
     "metadata": {},
     "output_type": "execute_result"
    }
   ],
   "source": [
    "a1*10 # Multiplicando valores"
   ]
  },
  {
   "cell_type": "code",
   "execution_count": 120,
   "id": "48446b3f-9662-4ae1-83a1-b08c24eb537c",
   "metadata": {},
   "outputs": [
    {
     "data": {
      "text/plain": [
       "array([1787822080,   60466176,  797966336, 1073741824,    1048576,\n",
       "         60466176,  167620825, 1410065408,    9765625, 1787822080],\n",
       "      dtype=int32)"
      ]
     },
     "execution_count": 120,
     "metadata": {},
     "output_type": "execute_result"
    }
   ],
   "source": [
    "a1**10 # Elemevando os valores a 10"
   ]
  },
  {
   "cell_type": "code",
   "execution_count": 122,
   "id": "4455380f-4a2b-44d1-a7bd-05f2adc2d5ee",
   "metadata": {},
   "outputs": [
    {
     "data": {
      "text/plain": [
       "array([1.2, 0.6, 2. , 0.8, 0.4, 0.6, 1.1, 1. , 0.5, 1.2])"
      ]
     },
     "execution_count": 122,
     "metadata": {},
     "output_type": "execute_result"
    }
   ],
   "source": [
    "a1/10 # Dividindo os valores"
   ]
  },
  {
   "cell_type": "markdown",
   "id": "be2d271d-07af-4847-9eda-d6536499b3e2",
   "metadata": {},
   "source": [
    "### Operações Entre Arrays"
   ]
  },
  {
   "cell_type": "code",
   "execution_count": 92,
   "id": "bb15a357-2a98-43e7-b200-d7b00c8b8346",
   "metadata": {},
   "outputs": [],
   "source": [
    "a2 = np.random.randint(1, 100, 10)"
   ]
  },
  {
   "cell_type": "code",
   "execution_count": 93,
   "id": "700ecd44-eff0-4d02-8bb5-0be6490105ef",
   "metadata": {},
   "outputs": [
    {
     "name": "stdout",
     "output_type": "stream",
     "text": [
      "[12  6 20  8  4  6 11 10  5 12] \n",
      "\n",
      "[82  4 66 35 36 25 43 83 11 85] \n",
      "\n"
     ]
    }
   ],
   "source": [
    "print(a1, '\\n')\n",
    "print(a2, '\\n')"
   ]
  },
  {
   "cell_type": "code",
   "execution_count": 94,
   "id": "3df619f6-e262-4416-b466-0c6273829f44",
   "metadata": {},
   "outputs": [
    {
     "data": {
      "text/plain": [
       "array([94, 10, 86, 43, 40, 31, 54, 93, 16, 97])"
      ]
     },
     "execution_count": 94,
     "metadata": {},
     "output_type": "execute_result"
    }
   ],
   "source": [
    "a1 + a2 "
   ]
  },
  {
   "cell_type": "code",
   "execution_count": 95,
   "id": "f5638e14-61c6-4ffb-a2d5-6902df3b6139",
   "metadata": {},
   "outputs": [
    {
     "data": {
      "text/plain": [
       "array([70, -2, 46, 27, 32, 19, 32, 73,  6, 73])"
      ]
     },
     "execution_count": 95,
     "metadata": {},
     "output_type": "execute_result"
    }
   ],
   "source": [
    "a2 - a1"
   ]
  },
  {
   "cell_type": "code",
   "execution_count": 96,
   "id": "f8233965-9d62-4c36-a768-d682820770d9",
   "metadata": {},
   "outputs": [
    {
     "data": {
      "text/plain": [
       "array([ 984,   24, 1320,  280,  144,  150,  473,  830,   55, 1020])"
      ]
     },
     "execution_count": 96,
     "metadata": {},
     "output_type": "execute_result"
    }
   ],
   "source": [
    "a1 * a2"
   ]
  },
  {
   "cell_type": "code",
   "execution_count": 97,
   "id": "a43128bf-a90c-4465-a0b1-e469a52a4392",
   "metadata": {},
   "outputs": [
    {
     "data": {
      "text/plain": [
       "array([0.14634146, 1.5       , 0.3030303 , 0.22857143, 0.11111111,\n",
       "       0.24      , 0.25581395, 0.12048193, 0.45454545, 0.14117647])"
      ]
     },
     "execution_count": 97,
     "metadata": {},
     "output_type": "execute_result"
    }
   ],
   "source": [
    "a1 / a2"
   ]
  },
  {
   "cell_type": "markdown",
   "id": "ab02b8a4-459e-4975-8df3-0e428b8a179c",
   "metadata": {},
   "source": [
    "### Mergindo arrays"
   ]
  },
  {
   "cell_type": "code",
   "execution_count": 98,
   "id": "13027902-8940-4824-acda-32acca82866e",
   "metadata": {
    "scrolled": true
   },
   "outputs": [
    {
     "data": {
      "text/plain": [
       "array([[3, 5],\n",
       "       [5, 6],\n",
       "       [7, 9]])"
      ]
     },
     "execution_count": 98,
     "metadata": {},
     "output_type": "execute_result"
    }
   ],
   "source": [
    "n1 = np.random.randint(1, 10, (3, 2)) # Criando array aleatório, o ultimo parâmetro indica a quantidade de linhas x colunas\n",
    "n1"
   ]
  },
  {
   "cell_type": "code",
   "execution_count": 99,
   "id": "cd43bbe2-4ab9-47c9-82a5-4135e17a07f0",
   "metadata": {},
   "outputs": [
    {
     "data": {
      "text/plain": [
       "array([[5, 1, 7],\n",
       "       [5, 1, 4]])"
      ]
     },
     "execution_count": 99,
     "metadata": {},
     "output_type": "execute_result"
    }
   ],
   "source": [
    "n2 = np.random.randint(1, 10, (2, 3)) # Criando array aleatório, o ultimo parâmetro indica a quantidade de colunas x linhas\n",
    "n2"
   ]
  },
  {
   "cell_type": "code",
   "execution_count": 100,
   "id": "6ecb1a1d-b3e4-457e-9b81-e6f4b6a5a1e5",
   "metadata": {},
   "outputs": [
    {
     "data": {
      "text/plain": [
       "array([[40,  8, 41],\n",
       "       [55, 11, 59],\n",
       "       [80, 16, 85]])"
      ]
     },
     "execution_count": 100,
     "metadata": {},
     "output_type": "execute_result"
    }
   ],
   "source": [
    "n1.dot(n2) # Multiplicando matriz n1 por n2, da maneira linha por coluna"
   ]
  },
  {
   "cell_type": "code",
   "execution_count": 101,
   "id": "14c3b7a2-ed3b-46f5-9c46-b6946a7d2269",
   "metadata": {},
   "outputs": [
    {
     "name": "stdout",
     "output_type": "stream",
     "text": [
      "[[1. 1.]\n",
      " [1. 1.]\n",
      " [1. 1.]] \n",
      "\n",
      "[[1. 1. 1.]\n",
      " [1. 1. 1.]] \n",
      "\n"
     ]
    },
    {
     "data": {
      "text/plain": [
       "array([[2., 2., 2.],\n",
       "       [2., 2., 2.],\n",
       "       [2., 2., 2.]])"
      ]
     },
     "execution_count": 101,
     "metadata": {},
     "output_type": "execute_result"
    }
   ],
   "source": [
    "n1 = np.ones((3, 2))\n",
    "n2 = np.ones((2, 3))\n",
    "\n",
    "print(n1, '\\n')\n",
    "print(n2, '\\n')\n",
    "\n",
    "n1.dot(n2)"
   ]
  },
  {
   "cell_type": "markdown",
   "id": "aa86307f-0b78-482b-97dd-5aa0c0f44067",
   "metadata": {},
   "source": [
    "### Comparações"
   ]
  },
  {
   "cell_type": "code",
   "execution_count": 102,
   "id": "5ae3b660-659b-4a85-aab8-a61d14ac871d",
   "metadata": {},
   "outputs": [
    {
     "data": {
      "text/plain": [
       "array([ True, False,  True, False])"
      ]
     },
     "execution_count": 102,
     "metadata": {},
     "output_type": "execute_result"
    }
   ],
   "source": [
    "b1 = np.array([1, 2, 2, 1])\n",
    "b2 = np.array([1, 4, 2, 5])\n",
    "\n",
    "b1 == b2 # Verificando a semelhança entre os arrays, onde o valor é igual a \"False\", o valor é diferente"
   ]
  },
  {
   "cell_type": "code",
   "execution_count": 103,
   "id": "6f99b821-5e5a-477e-8170-45a226dbcd66",
   "metadata": {},
   "outputs": [
    {
     "data": {
      "text/plain": [
       "False"
      ]
     },
     "execution_count": 103,
     "metadata": {},
     "output_type": "execute_result"
    }
   ],
   "source": [
    "np.array_equal(b1, b2) # Verificando se os arrays são idênticos"
   ]
  },
  {
   "cell_type": "code",
   "execution_count": 104,
   "id": "441e5047-dc38-46e5-82b9-c313f8898dca",
   "metadata": {},
   "outputs": [
    {
     "data": {
      "text/plain": [
       "array([0.84147098, 0.90929743, 0.90929743, 0.84147098])"
      ]
     },
     "execution_count": 104,
     "metadata": {},
     "output_type": "execute_result"
    }
   ],
   "source": [
    "np.sin(b1) # Calculando o seno"
   ]
  },
  {
   "cell_type": "code",
   "execution_count": 105,
   "id": "c87628a8-7aa0-4e83-883a-7c64f5385ca2",
   "metadata": {},
   "outputs": [
    {
     "data": {
      "text/plain": [
       "6"
      ]
     },
     "execution_count": 105,
     "metadata": {},
     "output_type": "execute_result"
    }
   ],
   "source": [
    "np.sum(b1) # Calculando a soma"
   ]
  },
  {
   "cell_type": "code",
   "execution_count": 106,
   "id": "046e47f8-a924-4a09-8c80-f26248081e46",
   "metadata": {},
   "outputs": [
    {
     "data": {
      "text/plain": [
       "1.5"
      ]
     },
     "execution_count": 106,
     "metadata": {},
     "output_type": "execute_result"
    }
   ],
   "source": [
    "np.mean(b1) # Calculando a média"
   ]
  },
  {
   "cell_type": "code",
   "execution_count": 107,
   "id": "8af8c605-e42d-4a73-b6e8-ef4bb27b9500",
   "metadata": {},
   "outputs": [
    {
     "data": {
      "text/plain": [
       "0.25"
      ]
     },
     "execution_count": 107,
     "metadata": {},
     "output_type": "execute_result"
    }
   ],
   "source": [
    "np.var(b1) # Calulando desvio padrão do array"
   ]
  },
  {
   "cell_type": "code",
   "execution_count": 185,
   "id": "09b31f21-28fa-47a2-9668-464cd09e32c5",
   "metadata": {},
   "outputs": [
    {
     "data": {
      "text/plain": [
       "array([ 0.10399174,  2.09497864, -1.0119253 , -1.54090928,  0.85617946,\n",
       "       -0.24336313,  1.56853385,  1.00028349, -0.40391943, -0.6841917 ])"
      ]
     },
     "execution_count": 185,
     "metadata": {},
     "output_type": "execute_result"
    }
   ],
   "source": [
    "obj = np.random.randn(10)\n",
    "obj"
   ]
  },
  {
   "cell_type": "code",
   "execution_count": 186,
   "id": "51be9a69-ec64-46be-8717-ba7c68045368",
   "metadata": {},
   "outputs": [
    {
     "data": {
      "text/plain": [
       "array([[-0.59884627, -0.27229773, -0.60058653],\n",
       "       [-0.97462209, -2.25526039,  0.18699613],\n",
       "       [-0.1203574 ,  1.67683348,  0.39414397]])"
      ]
     },
     "execution_count": 186,
     "metadata": {},
     "output_type": "execute_result"
    }
   ],
   "source": [
    "mtx = np.random.randn(3, 3)\n",
    "mtx"
   ]
  },
  {
   "cell_type": "code",
   "execution_count": 192,
   "id": "1c001a7d-a614-4de7-a667-90834532d6b3",
   "metadata": {},
   "outputs": [
    {
     "data": {
      "text/plain": [
       "1"
      ]
     },
     "execution_count": 192,
     "metadata": {},
     "output_type": "execute_result"
    }
   ],
   "source": [
    "obj.ndim # Calculando a quantidade de linhas no array"
   ]
  },
  {
   "cell_type": "code",
   "execution_count": 193,
   "id": "5413ae4d-fca1-4a99-96ff-cee209386f34",
   "metadata": {},
   "outputs": [
    {
     "data": {
      "text/plain": [
       "2"
      ]
     },
     "execution_count": 193,
     "metadata": {},
     "output_type": "execute_result"
    }
   ],
   "source": [
    "mtx.ndim # Calculando a quantidade de linhas na matriz"
   ]
  },
  {
   "cell_type": "code",
   "execution_count": 194,
   "id": "b3a88a2c-3aa6-4e45-b0ad-cd7a30f5038c",
   "metadata": {},
   "outputs": [
    {
     "data": {
      "text/plain": [
       "(10,)"
      ]
     },
     "execution_count": 194,
     "metadata": {},
     "output_type": "execute_result"
    }
   ],
   "source": [
    "obj.shape # Quatidade de valores no array"
   ]
  },
  {
   "cell_type": "code",
   "execution_count": 195,
   "id": "b76b7b0e-e9a1-45d6-b212-b0b28629c72e",
   "metadata": {},
   "outputs": [
    {
     "data": {
      "text/plain": [
       "(3, 3)"
      ]
     },
     "execution_count": 195,
     "metadata": {},
     "output_type": "execute_result"
    }
   ],
   "source": [
    "mtx.shape # Neste caso ele retornou dois valores, pois um é coluna e o outro é linha"
   ]
  },
  {
   "cell_type": "code",
   "execution_count": 191,
   "id": "e2101117-03fb-44f0-82de-1ca60bd11850",
   "metadata": {},
   "outputs": [
    {
     "data": {
      "text/plain": [
       "dtype('float64')"
      ]
     },
     "execution_count": 191,
     "metadata": {},
     "output_type": "execute_result"
    }
   ],
   "source": [
    "obj.dtype # \"Data Type\", serve para identificar o tipo de dados que estará contido num objeto."
   ]
  },
  {
   "cell_type": "code",
   "execution_count": 139,
   "id": "b810b7c2-5a6f-4678-ae45-1bc35b9657aa",
   "metadata": {},
   "outputs": [
    {
     "data": {
      "text/plain": [
       "array([[ 0,  0, -1],\n",
       "       [ 0,  0,  0],\n",
       "       [-1,  1,  0]])"
      ]
     },
     "execution_count": 139,
     "metadata": {},
     "output_type": "execute_result"
    }
   ],
   "source": [
    "mtx.astype('int') # Retornando os valores inteiros do array \"obj\""
   ]
  },
  {
   "cell_type": "code",
   "execution_count": 148,
   "id": "1e11a260-8bdd-4335-9354-cca3737e4ae6",
   "metadata": {},
   "outputs": [
    {
     "data": {
      "text/plain": [
       "array([ True,  True,  True,  True,  True,  True,  True,  True,  True,\n",
       "        True])"
      ]
     },
     "execution_count": 148,
     "metadata": {},
     "output_type": "execute_result"
    }
   ],
   "source": [
    "obj.astype('bool') # Retornando os valores booleanos da matriz \"mtx\""
   ]
  },
  {
   "cell_type": "code",
   "execution_count": 149,
   "id": "b555512d-6b3d-49c4-8d8b-21b3755dede5",
   "metadata": {},
   "outputs": [
    {
     "data": {
      "text/plain": [
       "array([ 1.04647752,  0.93369269, -0.05778499,  0.        , -0.05095101,\n",
       "       -1.54143561,  1.0779873 ,  1.46080013, -0.57251607, -0.18976112])"
      ]
     },
     "execution_count": 149,
     "metadata": {},
     "output_type": "execute_result"
    }
   ],
   "source": [
    "obj[3] = 0\n",
    "obj"
   ]
  },
  {
   "cell_type": "code",
   "execution_count": 151,
   "id": "ed22d063-6315-4eef-9e09-5558dcd555d8",
   "metadata": {},
   "outputs": [
    {
     "data": {
      "text/plain": [
       "array([ True,  True,  True, False,  True,  True,  True,  True,  True,\n",
       "        True])"
      ]
     },
     "execution_count": 151,
     "metadata": {},
     "output_type": "execute_result"
    }
   ],
   "source": [
    "obj.astype('bool') # Se o valor da coluna for iguak a zero o script vai retornar 'false'"
   ]
  },
  {
   "cell_type": "code",
   "execution_count": 152,
   "id": "cdd7936c-94e3-447c-8361-45b35eb0f043",
   "metadata": {},
   "outputs": [
    {
     "data": {
      "text/plain": [
       "-1.5414356063368018"
      ]
     },
     "execution_count": 152,
     "metadata": {},
     "output_type": "execute_result"
    }
   ],
   "source": [
    "obj.min()"
   ]
  },
  {
   "cell_type": "code",
   "execution_count": 153,
   "id": "754b9af1-d4b4-4a38-a086-917fc4f92d9a",
   "metadata": {},
   "outputs": [
    {
     "data": {
      "text/plain": [
       "1.460800125136266"
      ]
     },
     "execution_count": 153,
     "metadata": {},
     "output_type": "execute_result"
    }
   ],
   "source": [
    "obj.max()"
   ]
  },
  {
   "cell_type": "code",
   "execution_count": 155,
   "id": "10a68537-3d48-4114-b1c8-34262d8ab3bb",
   "metadata": {},
   "outputs": [
    {
     "data": {
      "text/plain": [
       "7"
      ]
     },
     "execution_count": 155,
     "metadata": {},
     "output_type": "execute_result"
    }
   ],
   "source": [
    "obj.argmax() # Verificando no array a posição do número máximo"
   ]
  },
  {
   "cell_type": "code",
   "execution_count": 156,
   "id": "428a6979-5085-44f1-99c7-3ff13e8410ee",
   "metadata": {},
   "outputs": [
    {
     "data": {
      "text/plain": [
       "5"
      ]
     },
     "execution_count": 156,
     "metadata": {},
     "output_type": "execute_result"
    }
   ],
   "source": [
    "obj.argmin() # Verificando no array a posição do número mínimo"
   ]
  },
  {
   "cell_type": "code",
   "execution_count": 157,
   "id": "0b4e62d1-1bcd-493b-8a5c-852893d4ab16",
   "metadata": {},
   "outputs": [
    {
     "data": {
      "text/plain": [
       "0.210650883145976"
      ]
     },
     "execution_count": 157,
     "metadata": {},
     "output_type": "execute_result"
    }
   ],
   "source": [
    "obj.mean()"
   ]
  },
  {
   "cell_type": "code",
   "execution_count": 158,
   "id": "e2d17885-7c0e-4e0b-8968-3b2343e2698c",
   "metadata": {},
   "outputs": [
    {
     "data": {
      "text/plain": [
       "2.10650883145976"
      ]
     },
     "execution_count": 158,
     "metadata": {},
     "output_type": "execute_result"
    }
   ],
   "source": [
    "obj.sum()"
   ]
  },
  {
   "cell_type": "code",
   "execution_count": 160,
   "id": "342fcf91-0194-49aa-8e11-db0666435225",
   "metadata": {},
   "outputs": [
    {
     "data": {
      "text/plain": [
       "2.10650883145976"
      ]
     },
     "execution_count": 160,
     "metadata": {},
     "output_type": "execute_result"
    }
   ],
   "source": [
    "np.sum(obj)"
   ]
  },
  {
   "cell_type": "code",
   "execution_count": 169,
   "id": "fc3b9397-d999-4356-83ca-ff9ec240fa62",
   "metadata": {},
   "outputs": [
    {
     "data": {
      "text/plain": [
       "0.7564895682784204"
      ]
     },
     "execution_count": 169,
     "metadata": {},
     "output_type": "execute_result"
    }
   ],
   "source": [
    "obj.var() # Variancia"
   ]
  },
  {
   "cell_type": "code",
   "execution_count": 162,
   "id": "f3e08928-bfbc-440b-afc3-f28106e17c39",
   "metadata": {},
   "outputs": [
    {
     "data": {
      "text/plain": [
       "0.8697640877148357"
      ]
     },
     "execution_count": 162,
     "metadata": {},
     "output_type": "execute_result"
    }
   ],
   "source": [
    "obj.std() # Desvio padrão"
   ]
  },
  {
   "cell_type": "code",
   "execution_count": 168,
   "id": "188397a1-6d9f-4f6d-8a03-720176e76d97",
   "metadata": {},
   "outputs": [
    {
     "data": {
      "text/plain": [
       "array([-1.54143561, -0.57251607, -0.18976112, -0.05778499, -0.05095101,\n",
       "        0.        ,  0.93369269,  1.04647752,  1.0779873 ,  1.46080013])"
      ]
     },
     "execution_count": 168,
     "metadata": {},
     "output_type": "execute_result"
    }
   ],
   "source": [
    "obj.sort() # organizando valores\n",
    "obj"
   ]
  },
  {
   "cell_type": "code",
   "execution_count": 173,
   "id": "9ef9ebc2-78de-4313-bbbc-ec4ba4909499",
   "metadata": {},
   "outputs": [
    {
     "data": {
      "text/plain": [
       "array([[-0.45939977, -0.07823732, -1.06438011],\n",
       "       [ 0.91071884, -0.08628861,  0.0602763 ],\n",
       "       [-1.80033295,  1.76486976, -0.30662484]])"
      ]
     },
     "execution_count": 173,
     "metadata": {},
     "output_type": "execute_result"
    }
   ],
   "source": [
    "mtx"
   ]
  },
  {
   "cell_type": "code",
   "execution_count": 175,
   "id": "6bc93894-ad64-46a0-be2b-58b79b1e0e36",
   "metadata": {},
   "outputs": [
    {
     "data": {
      "text/plain": [
       "array([[-0.45939977,  0.91071884, -1.80033295],\n",
       "       [-0.07823732, -0.08628861,  1.76486976],\n",
       "       [-1.06438011,  0.0602763 , -0.30662484]])"
      ]
     },
     "execution_count": 175,
     "metadata": {},
     "output_type": "execute_result"
    }
   ],
   "source": [
    "mtx.T # Organizando linhas em colunas "
   ]
  },
  {
   "cell_type": "markdown",
   "id": "49e14b5d-5866-4ba7-aa1a-775132580e2c",
   "metadata": {},
   "source": [
    "### Máscaras"
   ]
  },
  {
   "cell_type": "code",
   "execution_count": 177,
   "id": "10433f7a-0660-4d8d-a98d-9f89915932df",
   "metadata": {},
   "outputs": [],
   "source": [
    "na = np.array([1, 2, 3, 4])"
   ]
  },
  {
   "cell_type": "code",
   "execution_count": 199,
   "id": "e37f135d-8580-427e-adb6-763c9f6b822e",
   "metadata": {},
   "outputs": [
    {
     "data": {
      "text/plain": [
       "array([2, 4])"
      ]
     },
     "execution_count": 199,
     "metadata": {},
     "output_type": "execute_result"
    }
   ],
   "source": [
    "na[[False, True, False, True]] # Revelando os valores onde 'True' é aplicado "
   ]
  },
  {
   "cell_type": "code",
   "execution_count": 198,
   "id": "db803c2e-bd62-47e0-9e8a-31c09fadc378",
   "metadata": {},
   "outputs": [
    {
     "data": {
      "text/plain": [
       "array([False, False,  True,  True])"
      ]
     },
     "execution_count": 198,
     "metadata": {},
     "output_type": "execute_result"
    }
   ],
   "source": [
    "na >= 3 # Verificando valores onde 0 valor é maior ou igual a 3  "
   ]
  },
  {
   "cell_type": "code",
   "execution_count": 197,
   "id": "378a1d6d-1119-429b-ae63-3c755d1e96e8",
   "metadata": {},
   "outputs": [
    {
     "data": {
      "text/plain": [
       "array([3, 4])"
      ]
     },
     "execution_count": 197,
     "metadata": {},
     "output_type": "execute_result"
    }
   ],
   "source": [
    "na[na >= 3] # Verificando valores onde 0 valor é maior ou igual a 3   "
   ]
  },
  {
   "cell_type": "code",
   "execution_count": 196,
   "id": "920c9d7d-70a4-45fd-84cf-aa07dee7f3e8",
   "metadata": {},
   "outputs": [
    {
     "data": {
      "text/plain": [
       "array([2, 4])"
      ]
     },
     "execution_count": 196,
     "metadata": {},
     "output_type": "execute_result"
    }
   ],
   "source": [
    "na[na % 2 == 0] # Procurando valores pares no array"
   ]
  },
  {
   "cell_type": "code",
   "execution_count": null,
   "id": "1f630697-d944-4595-9446-04ac5de130f2",
   "metadata": {},
   "outputs": [],
   "source": []
  },
  {
   "cell_type": "code",
   "execution_count": null,
   "id": "15ff9767-f2d7-4442-a6ae-43f1d63f72b8",
   "metadata": {},
   "outputs": [],
   "source": []
  },
  {
   "cell_type": "code",
   "execution_count": null,
   "id": "620c88db-257e-4e70-97d9-5ea041baf329",
   "metadata": {},
   "outputs": [],
   "source": []
  },
  {
   "cell_type": "code",
   "execution_count": null,
   "id": "3cbe0835-ee69-4194-8a66-c0a889d496a3",
   "metadata": {},
   "outputs": [],
   "source": []
  }
 ],
 "metadata": {
  "kernelspec": {
   "display_name": "Python 3 (ipykernel)",
   "language": "python",
   "name": "python3"
  },
  "language_info": {
   "codemirror_mode": {
    "name": "ipython",
    "version": 3
   },
   "file_extension": ".py",
   "mimetype": "text/x-python",
   "name": "python",
   "nbconvert_exporter": "python",
   "pygments_lexer": "ipython3",
   "version": "3.12.0"
  }
 },
 "nbformat": 4,
 "nbformat_minor": 5
}
